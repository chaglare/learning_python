{
 "cells": [
  {
   "cell_type": "code",
   "execution_count": null,
   "metadata": {},
   "outputs": [],
   "source": [
    "door = 'open'\n",
    "type(door)"
   ]
  },
  {
   "cell_type": "code",
   "execution_count": null,
   "metadata": {},
   "outputs": [],
   "source": [
    "door = 'open'\n",
    "if door == 'open':\n",
    "    print('Yes, you can enter')"
   ]
  },
  {
   "cell_type": "code",
   "execution_count": null,
   "metadata": {},
   "outputs": [],
   "source": [
    "door = 'close'\n",
    "if door == 'open':\n",
    "    print('Yes, you can enter')\n",
    "elif door == 'close':\n",
    "    print('No, you cannot enter')"
   ]
  },
  {
   "cell_type": "code",
   "execution_count": null,
   "metadata": {},
   "outputs": [],
   "source": [
    "door = 'i dont know'\n",
    "if door == 'open':\n",
    "    print('Yes, you can enter')\n",
    "else:\n",
    "    print('No, you cannot enter')"
   ]
  },
  {
   "cell_type": "code",
   "execution_count": null,
   "metadata": {},
   "outputs": [],
   "source": [
    "door = 'i dont know'\n",
    "if door == 'open':\n",
    "    print('Yes, you can enter')\n",
    "elif door == 'close':\n",
    "    print('No, you cannot enter')\n",
    "else:\n",
    "    print('something is wrong')"
   ]
  },
  {
   "cell_type": "code",
   "execution_count": null,
   "metadata": {},
   "outputs": [],
   "source": [
    "door = 'open'\n",
    "if door == 'open':\n",
    "    print('Yes, you can enter')\n",
    "elif door == 'close':\n",
    "    print('No, you cannot enter')\n",
    "else:\n",
    "    print('something is wrong')"
   ]
  },
  {
   "cell_type": "code",
   "execution_count": null,
   "metadata": {},
   "outputs": [],
   "source": [
    "name = input('What is your name? : ')"
   ]
  },
  {
   "cell_type": "code",
   "execution_count": null,
   "metadata": {},
   "outputs": [],
   "source": [
    "print(name)"
   ]
  },
  {
   "cell_type": "code",
   "execution_count": null,
   "metadata": {},
   "outputs": [],
   "source": [
    "print('Hello ' + name )"
   ]
  },
  {
   "cell_type": "code",
   "execution_count": null,
   "metadata": {},
   "outputs": [],
   "source": [
    "name = input('What is your name? : ')\n",
    "\n",
    "if name == 'Anna':\n",
    "    print('Privet ' + name)\n",
    "elif name == 'Caglar' :\n",
    "    print('Selam ' + name )"
   ]
  },
  {
   "cell_type": "code",
   "execution_count": null,
   "metadata": {},
   "outputs": [],
   "source": [
    "name = input('What is your name? : ')\n",
    "\n",
    "if name == 'Anna':\n",
    "    print('Privet ' + name)\n",
    "elif name == 'Caglar' :\n",
    "    print('Selam ' + name )\n",
    "else:\n",
    "    print('Hello ' + name)"
   ]
  },
  {
   "cell_type": "code",
   "execution_count": null,
   "metadata": {},
   "outputs": [],
   "source": [
    "name = input('What is your name? : ')\n",
    "\n",
    "if name == 'Anna':\n",
    "    print('Privet ' + name)\n",
    "elif name == 'Caglar' :\n",
    "    print('Selam ' + name )\n",
    "else:\n",
    "    print('Hello ' + name)"
   ]
  },
  {
   "cell_type": "code",
   "execution_count": null,
   "metadata": {},
   "outputs": [],
   "source": [
    "name = input('What is your name? : ')\n",
    "\n",
    "name = name.capitalize()       #this line capitalizes the first letter of name you inputtud\n",
    "\n",
    "if name == 'Anna':\n",
    "    print('Privet ' + name)\n",
    "elif name == 'Caglar' :\n",
    "    print('Selam ' + name )\n",
    "else:\n",
    "    print('Hello ' + name)"
   ]
  },
  {
   "cell_type": "code",
   "execution_count": null,
   "metadata": {},
   "outputs": [],
   "source": [
    "black_list = ['Abdul', 'Farkhod', 'Florin']\n",
    "student = input('What is your name? : ' )\n",
    "student = student.capitalize()\n",
    "if student in black_list:\n",
    "    print('Sorry you can not come in')"
   ]
  },
  {
   "cell_type": "code",
   "execution_count": null,
   "metadata": {},
   "outputs": [],
   "source": [
    "# List always starts with []\n",
    "\n",
    "black_list = ['Abdul', 'Farkhod', 'Florin']\n",
    "student = input('What is your name? : ' )\n",
    "\n",
    "if student.capitalize() in black_list:\n",
    "    print('Sorry you can not come in')"
   ]
  },
  {
   "cell_type": "code",
   "execution_count": null,
   "metadata": {},
   "outputs": [],
   "source": [
    "# List always starts with []\n",
    "\n",
    "black_list = ['Abdul', 'Farkhod', 'Florin']\n",
    "student = input('What is your name? : ' )\n",
    "\n",
    "if student.capitalize() in black_list:\n",
    "    print('Sorry you can not come in')"
   ]
  },
  {
   "cell_type": "code",
   "execution_count": null,
   "metadata": {},
   "outputs": [],
   "source": [
    "name = input('What is your name? :').capitalize()\n",
    "year = int(input('What is your birthday <year>? :'))\n",
    "print(f'Your name is :{name}, Year :{year}')"
   ]
  },
  {
   "cell_type": "code",
   "execution_count": null,
   "metadata": {},
   "outputs": [],
   "source": [
    "name = input('What is your name? :').capitalize()\n",
    "year = int(input('What is your birthday <year>? :'))\n",
    "now = 2019\n",
    "age = now - year\n",
    "print(f'Your name is :{name}, Year :{age}')"
   ]
  },
  {
   "cell_type": "code",
   "execution_count": null,
   "metadata": {},
   "outputs": [],
   "source": [
    "door = True\n",
    "if door: \n",
    "    print('Please come in')"
   ]
  },
  {
   "cell_type": "code",
   "execution_count": null,
   "metadata": {},
   "outputs": [],
   "source": [
    "door = True\n",
    "if door: \n",
    "    print('Door is open!!')\n",
    "else:\n",
    "    print('Door is close!!')"
   ]
  },
  {
   "cell_type": "code",
   "execution_count": null,
   "metadata": {},
   "outputs": [],
   "source": [
    "door = False\n",
    "if door: \n",
    "    print('Door is open!!')\n",
    "else:\n",
    "    print('Door is close!!')"
   ]
  },
  {
   "cell_type": "code",
   "execution_count": 3,
   "metadata": {},
   "outputs": [
    {
     "name": "stdout",
     "output_type": "stream",
     "text": [
      "['Python', 'Terraform', 'Ansible']\n"
     ]
    }
   ],
   "source": [
    "student = {'first_name': 'Abdul',\n",
    "           'last_name': 'sharif',\n",
    "           'username': 'asharif',\n",
    "           'password': 'redhat',\n",
    "          'status': False,\n",
    "          'classes': ['Python', 'Terraform', 'Ansible']\n",
    "          }\n",
    "print(student['classes'])"
   ]
  },
  {
   "cell_type": "code",
   "execution_count": 7,
   "metadata": {},
   "outputs": [
    {
     "name": "stdout",
     "output_type": "stream",
     "text": [
      "['Python', 'Terraform', 'Ansible'] False\n"
     ]
    }
   ],
   "source": [
    "student = {'first_name': 'Abdul',\n",
    "           'last_name': 'sharif',\n",
    "           'username': 'asharif',\n",
    "           'password': 'redhat',\n",
    "          'status': False,\n",
    "          'classes': ['Python', 'Terraform', 'Ansible']\n",
    "          }\n",
    "print(student['classes'], student['status'])"
   ]
  },
  {
   "cell_type": "code",
   "execution_count": 10,
   "metadata": {},
   "outputs": [
    {
     "name": "stdout",
     "output_type": "stream",
     "text": [
      "################################################\n",
      " ###### Information about Abdul sharif ######\n",
      "################################################\n",
      "## Username: asharif\n",
      "## Full Name: Abdul sharif\n"
     ]
    }
   ],
   "source": [
    "student = {'first_name': 'Abdul',\n",
    "           'last_name': 'sharif',\n",
    "           'username': 'asharif',\n",
    "           'password': 'redhat',\n",
    "          'status': False,\n",
    "          'classes': ['Python', 'Terraform', 'Ansible']\n",
    "}\n",
    "print('################################################')\n",
    "print(f' ###### Information about {student[\"first_name\"]} {student[\"last_name\"]} ######')\n",
    "print('################################################')\n",
    "print(f'## Username: {student[\"username\"]}')\n",
    "print(f'## Full Name: {student[\"first_name\"]} {student[\"last_name\"]}')\n",
    "if student['status']:\n",
    "      print(f'##User cannot login')"
   ]
  },
  {
   "cell_type": "code",
   "execution_count": 14,
   "metadata": {},
   "outputs": [
    {
     "name": "stdout",
     "output_type": "stream",
     "text": [
      "################################################\n",
      " ###### Information about Abdul sharif ######\n",
      "################################################\n",
      "## Username: asharif\n",
      "## Full Name: Abdul sharif\n",
      "## User cannot login\n"
     ]
    }
   ],
   "source": [
    "student = {'first_name': 'Abdul',\n",
    "           'last_name': 'sharif',\n",
    "           'username': 'asharif',\n",
    "           'password': 'redhat',\n",
    "          'status': False,\n",
    "          'classes': ['Python', 'Terraform', 'Ansible']\n",
    "}\n",
    "print('################################################')\n",
    "print(f' ###### Information about {student[\"first_name\"]} {student[\"last_name\"]} ######')\n",
    "print('################################################')\n",
    "print(f'## Username: {student[\"username\"]}')\n",
    "print(f'## Full Name: {student[\"first_name\"]} {student[\"last_name\"]}')\n",
    "if student['status']:\n",
    "      print(f'## User can login')\n",
    "else:\n",
    "      print(f'## User cannot login')"
   ]
  },
  {
   "cell_type": "code",
   "execution_count": 16,
   "metadata": {},
   "outputs": [
    {
     "name": "stdout",
     "output_type": "stream",
     "text": [
      "################################################\n",
      " ###### Information about Abdul sharif ######\n",
      "################################################\n",
      "## Username: asharif\n",
      "## Full Name: Abdul sharif\n",
      "## User cannot login\n",
      "## User is attends Python class\n",
      "## User is attends Terraform class\n",
      "## User is attends Ansible class\n"
     ]
    }
   ],
   "source": [
    "student = {'first_name': 'Abdul',\n",
    "           'last_name': 'sharif',\n",
    "           'username': 'asharif',\n",
    "           'password': 'redhat',\n",
    "          'status': False,\n",
    "          'classes': ['Python', 'Terraform', 'Ansible']\n",
    "}\n",
    "print('################################################')\n",
    "print(f' ###### Information about {student[\"first_name\"]} {student[\"last_name\"]} ######')\n",
    "print('################################################')\n",
    "print(f'## Username: {student[\"username\"]}')\n",
    "print(f'## Full Name: {student[\"first_name\"]} {student[\"last_name\"]}')\n",
    "if student['status']:\n",
    "      print(f'## User can login')\n",
    "else:\n",
    "      print(f'## User cannot login')\n",
    "if 'Python' in student['classes']:\n",
    "    print(f'## User attends Python class')\n",
    "if 'Terraform' in student['classes']:\n",
    "    print(f'## User attends Terraform class')\n",
    "if 'Ansible' in student['classes']:\n",
    "    print(f'## User attends Ansible class')"
   ]
  },
  {
   "cell_type": "code",
   "execution_count": null,
   "metadata": {},
   "outputs": [],
   "source": []
  }
 ],
 "metadata": {
  "kernelspec": {
   "display_name": "Python 3",
   "language": "python",
   "name": "python3"
  },
  "language_info": {
   "codemirror_mode": {
    "name": "ipython",
    "version": 3
   },
   "file_extension": ".py",
   "mimetype": "text/x-python",
   "name": "python",
   "nbconvert_exporter": "python",
   "pygments_lexer": "ipython3",
   "version": "3.6.5"
  }
 },
 "nbformat": 4,
 "nbformat_minor": 2
}
