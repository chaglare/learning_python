{
 "cells": [
  {
   "cell_type": "code",
   "execution_count": 8,
   "metadata": {},
   "outputs": [
    {
     "name": "stdout",
     "output_type": "stream",
     "text": [
      "This is my string\n",
      "THIS IS MY STRING\n",
      "this is my string\n"
     ]
    }
   ],
   "source": [
    "my_string = 'THIS IS MY STRING'\n",
    "my_second_string = 'caglar'\n",
    "\n",
    "city = 'london'\n",
    "fix = city.capitalize()\n",
    "#print(fix)\n",
    "\n",
    "print(my_string.capitalize())\n",
    "print(my_string.upper())\n",
    "print(my_string.lower())\n",
    "\n",
    "\n",
    "#dir(my_second_string)\n",
    "#print(my_second_string.capitalize())"
   ]
  },
  {
   "cell_type": "code",
   "execution_count": 23,
   "metadata": {},
   "outputs": [
    {
     "name": "stdout",
     "output_type": "stream",
     "text": [
      "This\n",
      "is\n",
      "my\n",
      "string\n",
      "This\n",
      "is\n",
      "my\n",
      "string\n"
     ]
    }
   ],
   "source": [
    "#mydata = 'This is my string'\n",
    "#mydata.split ()\n",
    "\n",
    "mydata = 'This is my string'\n",
    "word1, word2, word3, word4 = mydata.split (' ')\n",
    "print(word1) \n",
    "print(word2)\n",
    "print(word3)\n",
    "print(word4)\n",
    "\n",
    "\n",
    "#mydata = 'This is my string'\n",
    "#mydata.split ()\n",
    "\n",
    "mydata = 'This is my string'\n",
    "word1, word2, word3, word4 = mydata.split (' ')\n",
    "total = f'{word1} {word2} {word3} {word4}'\n",
    "print(word1) \n",
    "print(word2)\n",
    "print(word3)\n",
    "print(word4)\n"
   ]
  },
  {
   "cell_type": "code",
   "execution_count": 28,
   "metadata": {},
   "outputs": [
    {
     "name": "stdout",
     "output_type": "stream",
     "text": [
      " example This is my string\n"
     ]
    }
   ],
   "source": [
    "mydata = 'This is my string'\n",
    "word1, word2, word3, word4 = mydata.split (' ')\n",
    "total = f' example {word1} {word2} {word3} {word4}'\n",
    "print (total)"
   ]
  },
  {
   "cell_type": "code",
   "execution_count": 31,
   "metadata": {},
   "outputs": [
    {
     "name": "stdout",
     "output_type": "stream",
     "text": [
      " is my\n"
     ]
    }
   ],
   "source": [
    "mydata = 'This is my string'\n",
    "word1, word2, word3, word4 = mydata.split (' ')\n",
    "total = f' {word1} {word2} {word3} {word4}'\n",
    "print (total[5:11])\n",
    "\n",
    "#computer starts from 0"
   ]
  },
  {
   "cell_type": "code",
   "execution_count": 35,
   "metadata": {},
   "outputs": [
    {
     "name": "stdout",
     "output_type": "stream",
     "text": [
      " this is my string \n"
     ]
    }
   ],
   "source": [
    "my_string = ' this is my string '\n",
    "print(my_string.strip().lower())"
   ]
  },
  {
   "cell_type": "code",
   "execution_count": 37,
   "metadata": {},
   "outputs": [
    {
     "name": "stdout",
     "output_type": "stream",
     "text": [
      "This is my string\n"
     ]
    }
   ],
   "source": [
    "my_string = 'This-is-my-string'\n",
    "print(my_string.replace('-', ' '))"
   ]
  },
  {
   "cell_type": "code",
   "execution_count": null,
   "metadata": {},
   "outputs": [
    {
     "name": "stdout",
     "output_type": "stream",
     "text": [
      "[master 9f5557f] example class\n",
      " 2 files changed, 194 insertions(+)\n",
      " create mode 100644 .ipynb_checkpoints/Untitled-checkpoint.ipynb\n",
      " create mode 100644 Untitled.ipynb\n",
      "Username for 'https://github.com': "
     ]
    }
   ],
   "source": [
    "!git add . && git commit -m 'example class' && git push origin master"
   ]
  },
  {
   "cell_type": "code",
   "execution_count": null,
   "metadata": {},
   "outputs": [],
   "source": []
  }
 ],
 "metadata": {
  "kernelspec": {
   "display_name": "Python 3",
   "language": "python",
   "name": "python3"
  },
  "language_info": {
   "codemirror_mode": {
    "name": "ipython",
    "version": 3
   },
   "file_extension": ".py",
   "mimetype": "text/x-python",
   "name": "python",
   "nbconvert_exporter": "python",
   "pygments_lexer": "ipython3",
   "version": "3.6.5"
  }
 },
 "nbformat": 4,
 "nbformat_minor": 2
}
