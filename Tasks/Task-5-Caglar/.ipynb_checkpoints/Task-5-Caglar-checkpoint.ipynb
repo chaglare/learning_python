{
 "cells": [
  {
   "cell_type": "markdown",
   "metadata": {},
   "source": [
    "# Task 5 Working with JSON data\n"
   ]
  },
  {
   "cell_type": "markdown",
   "metadata": {},
   "source": [
    "1. Load previous JSON data into your pynote as `py_data` so you can proceed with all tasks"
   ]
  },
  {
   "cell_type": "code",
   "execution_count": 1,
   "metadata": {},
   "outputs": [],
   "source": [
    "import json\n",
    "with open('data.json') as data:\n",
    "    py_data = json.load(data)"
   ]
  },
  {
   "cell_type": "markdown",
   "metadata": {},
   "source": [
    "2. Create a function call `count-matched-repos`\n",
    "    1. Function should take an argument  `repo_name`\n",
    "    2. Iterate all items to find out all matched  repos\n",
    "    3. When function finish iteration should return result as list\n",
    "    4. Call the function and count with `len()`  to see right results\n"
   ]
  },
  {
   "cell_type": "code",
   "execution_count": 2,
   "metadata": {},
   "outputs": [
    {
     "name": "stdout",
     "output_type": "stream",
     "text": [
      "2\n"
     ]
    }
   ],
   "source": [
    "def matched_repos(repo_name):\n",
    "    repos = []\n",
    "    for item in py_data['items']:\n",
    "        if(item['name'] == repo_name):\n",
    "            repos.append(item)\n",
    "    return(repos)\n",
    "\n",
    "print(len(matched_repos('api-platform-prod')))\n",
    "    \n",
    "    "
   ]
  },
  {
   "cell_type": "markdown",
   "metadata": {},
   "source": [
    "3. Create function call `is_repo_exists` which will return bool data type\n",
    "    1. function  takes an argument `repo_name`\n",
    "    2. you should iterate all items\n",
    "    3. if you found any matched names should return true\n",
    "    4. if function can not found should return revers false\n"
   ]
  },
  {
   "cell_type": "code",
   "execution_count": 3,
   "metadata": {},
   "outputs": [
    {
     "data": {
      "text/plain": [
       "True"
      ]
     },
     "execution_count": 3,
     "metadata": {},
     "output_type": "execute_result"
    }
   ],
   "source": [
    "def is_repo_exist(repo_name):\n",
    "    for item in py_data['items']:\n",
    "        if(item['name'] == repo_name):\n",
    "            return True\n",
    "        return False\n",
    "is_repo_exist('webplatform-qa')"
   ]
  },
  {
   "cell_type": "markdown",
   "metadata": {},
   "source": [
    "4. Create function call `update_repo`\n",
    "    1. function should take arguments `repo_id` required\n",
    "    2. optional arguments\n",
    "        1. `repo_name`\n",
    "        2. `repo_group`\n",
    "        3. `repo_version`\n",
    "        4. `repo_format`\n"
   ]
  },
  {
   "cell_type": "code",
   "execution_count": 4,
   "metadata": {},
   "outputs": [
    {
     "ename": "SyntaxError",
     "evalue": "invalid syntax (<ipython-input-4-2987a76cb89a>, line 3)",
     "output_type": "error",
     "traceback": [
      "\u001b[0;36m  File \u001b[0;32m\"<ipython-input-4-2987a76cb89a>\"\u001b[0;36m, line \u001b[0;32m3\u001b[0m\n\u001b[0;31m    for (item['id'] == repo_id):\u001b[0m\n\u001b[0m                               ^\u001b[0m\n\u001b[0;31mSyntaxError\u001b[0m\u001b[0;31m:\u001b[0m invalid syntax\n"
     ]
    }
   ],
   "source": [
    "def update_repo(repo_id, repo_name=None, repo_group=None, repo_version=None, repo_format=None):\n",
    "    for item in py_data('items'):\n",
    "        for (item['id'] == repo_id):\n",
    "            if repo_name:\n",
    "                item['name'] = repo_name\n",
    "                print('updated repo name')\n",
    "            if repo_group:\n",
    "                item['group'] = repo_group\n",
    "                print('updated group name')\n",
    "            if repo_format:\n",
    "                item['format'] = repo_format\n",
    "                print('udpated repo format')\n",
    "            if repo_version:\n",
    "                item['version'] = repo_version\n",
    "                print('updated repo version')\n",
    "            return\n",
    "        print('repo is not found')\n",
    "    update_repo(\"0.6\", \"webplatform\")\n",
    "    \n",
    "    #print(py_data)"
   ]
  },
  {
   "cell_type": "code",
   "execution_count": null,
   "metadata": {},
   "outputs": [],
   "source": []
  }
 ],
 "metadata": {
  "kernelspec": {
   "display_name": "Python 3",
   "language": "python",
   "name": "python3"
  },
  "language_info": {
   "codemirror_mode": {
    "name": "ipython",
    "version": 3
   },
   "file_extension": ".py",
   "mimetype": "text/x-python",
   "name": "python",
   "nbconvert_exporter": "python",
   "pygments_lexer": "ipython3",
   "version": "3.6.5"
  }
 },
 "nbformat": 4,
 "nbformat_minor": 2
}
