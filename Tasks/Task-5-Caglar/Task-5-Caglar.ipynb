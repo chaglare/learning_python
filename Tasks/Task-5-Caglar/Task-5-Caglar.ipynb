{
 "cells": [
  {
   "cell_type": "markdown",
   "metadata": {},
   "source": [
    "# Task 5 Working with JSON data\n"
   ]
  },
  {
   "cell_type": "markdown",
   "metadata": {},
   "source": [
    "1. Load previous JSON data into your pynote as `py_data` so you can proceed with all tasks"
   ]
  },
  {
   "cell_type": "code",
   "execution_count": 9,
   "metadata": {},
   "outputs": [],
   "source": [
    "import json\n",
    "with open('data.json') as data:\n",
    "    py_data = json.load(data)"
   ]
  },
  {
   "cell_type": "markdown",
   "metadata": {},
   "source": [
    "2. Create a function call `count-matched-repos`\n",
    "    1. Function should take an argument  `repo_name`\n",
    "    2. Iterate all items to find out all matched  repos\n",
    "    3. When function finish iteration should return result as list\n",
    "    4. Call the function and count with `len()`  to see right results\n"
   ]
  },
  {
   "cell_type": "code",
   "execution_count": 10,
   "metadata": {},
   "outputs": [
    {
     "name": "stdout",
     "output_type": "stream",
     "text": [
      "2\n"
     ]
    }
   ],
   "source": [
    "def matched_repos(repo_name):\n",
    "    repos = []\n",
    "    for item in py_data['items']:\n",
    "        if(item['name'] == repo_name):\n",
    "            repos.append(item)\n",
    "    return(repos)\n",
    "\n",
    "print(len(matched_repos('api-platform-prod')))\n",
    "    \n",
    "    "
   ]
  },
  {
   "cell_type": "markdown",
   "metadata": {},
   "source": [
    "3. Create function call `is_repo_exists` which will return bool data type\n",
    "    1. function  takes an argument `repo_name`\n",
    "    2. you should iterate all items\n",
    "    3. if you found any matched names should return true\n",
    "    4. if function can not found should return revers false\n"
   ]
  },
  {
   "cell_type": "code",
   "execution_count": 11,
   "metadata": {},
   "outputs": [
    {
     "data": {
      "text/plain": [
       "True"
      ]
     },
     "execution_count": 11,
     "metadata": {},
     "output_type": "execute_result"
    }
   ],
   "source": [
    "def is_repo_exist(repo_name):\n",
    "    for item in py_data['items']:\n",
    "        if(item['name'] == repo_name):\n",
    "            return True\n",
    "        return False\n",
    "is_repo_exist('webplatform-qa')"
   ]
  },
  {
   "cell_type": "markdown",
   "metadata": {},
   "source": [
    "4. Create function call `update_repo`\n",
    "    1. function should take arguments `repo_id` required\n",
    "    2. optional arguments\n",
    "        1. `repo_name`\n",
    "        2. `repo_group`\n",
    "        3. `repo_version`\n",
    "        4. `repo_format`\n"
   ]
  },
  {
   "cell_type": "code",
   "execution_count": 16,
   "metadata": {},
   "outputs": [
    {
     "name": "stdout",
     "output_type": "stream",
     "text": [
      "updated repo version\n"
     ]
    }
   ],
   "source": [
    "def update_repo(repo_id, repo_name=None, repo_group=None, repo_version=None, repo_format=None):\n",
    "    for item in py_data['items']:\n",
    "        if (item['id'] == repo_id):\n",
    "            if repo_name:\n",
    "                item['name'] = repo_name\n",
    "                print('updated repo name')\n",
    "            if repo_group:\n",
    "                item['group'] = repo_group\n",
    "                print('updated group name')\n",
    "            if repo_format:\n",
    "                item['format'] = repo_format\n",
    "                print('udpated repo format')\n",
    "            if repo_version:\n",
    "                item['version'] = repo_version\n",
    "                print('updated repo version')\n",
    "            return\n",
    "    print('repo is not found')\n",
    "update_repo('d2VicGxhdGZvcm06Yzc3MDE2OWMwYjJlM2VkODUzYTc3Mjk4Y2UzYTgyNzU', None, None, \"0.6\", None)\n",
    "    \n",
    "    #print(py_data)"
   ]
  },
  {
   "cell_type": "code",
   "execution_count": 17,
   "metadata": {},
   "outputs": [
    {
     "name": "stdout",
     "output_type": "stream",
     "text": [
      "{'items': [{'id': 'd2VicGxhdGZvcm06Yzc3MDE2OWMwYjJlM2VkODUzYTc3Mjk4Y2UzYTgyNzU', 'repository': 'webplatform', 'format': 'docker', 'group': 'webplatform', 'name': '0.6', 'version': '0.6', 'assets': [{'downloadUrl': 'https://nexus.fuchicorp.com/repository/webplatform/v2/webplatform-qa/manifests/0.27', 'path': 'v2/webplatform-qa/manifests/0.27', 'id': 'd2VicGxhdGZvcm06MzZlM2RlYzhkZTUyOGM5YjhmNDM5NmZkYmY2MTllZWI', 'repository': 'webplatform', 'format': 'docker', 'checksum': {'sha1': 'd091baea493486e1293736c7a01bc637de3e35d9', 'sha256': '129daa1b75d5ab2bec907dfd1541169fb15d9df94aef0c91a8c40a739240317b'}}]}, {'id': 'd2VicGxhdGZvcm06Yzc3MDE2OWMwYjJlM2VkOGVmMzU2YWE0ZTliMmZlNDY', 'repository': 'webplatform', 'format': 'docker', 'group': None, 'name': 'webplatform-prod', 'version': '0.23', 'assets': [{'downloadUrl': 'https://nexus.fuchicorp.com/repository/webplatform/v2/webplatform-prod/manifests/0.23', 'path': 'v2/webplatform-prod/manifests/0.23', 'id': 'd2VicGxhdGZvcm06MzZlM2RlYzhkZTUyOGM5YjZhZWQzOGI0YzgxZjFlZjg', 'repository': 'webplatform', 'format': 'docker', 'checksum': {'sha1': 'aa91c4ab344ece99c2f97f4a31499b183377f947', 'sha256': 'ca0bed7e3e4140b19fceb23df483db4ec64039b4bf02c2e1ac1dfb8c39801244'}}]}, {'id': 'd2VicGxhdGZvcm06Yzc3MDE2OWMwYjJlM2VkODM1NzM2OGI0M2Q0ZGEzZDg', 'repository': 'webplatform', 'format': 'docker', 'group': None, 'name': 'webplatform-dev', 'version': '0.36', 'assets': [{'downloadUrl': 'https://nexus.fuchicorp.com/repository/webplatform/v2/webplatform-dev/manifests/0.36', 'path': 'v2/webplatform-dev/manifests/0.36', 'id': 'd2VicGxhdGZvcm06MzZlM2RlYzhkZTUyOGM5YjA5YjhmZDllMjUxNjJmYTg', 'repository': 'webplatform', 'format': 'docker', 'checksum': {'sha1': 'c5af14599fed0daf276b7a83f16cce7ffeaee403', 'sha256': 'b89c4cb05469e7235609a498e170f2c3ff16b6c369e87e2e6380cf2bd565f08a'}}]}, {'id': 'd2VicGxhdGZvcm06Yzc3MDE2OWMwYjJlM2VkODhhN2FhMjRiMWY4YzFiMTk', 'repository': 'webplatform', 'format': 'docker', 'group': None, 'name': 'api-platform-prod', 'version': '0.1', 'assets': [{'downloadUrl': 'https://nexus.fuchicorp.com/repository/webplatform/v2/api-platform-prod/manifests/0.1', 'path': 'v2/api-platform-prod/manifests/0.1', 'id': 'd2VicGxhdGZvcm06MzZlM2RlYzhkZTUyOGM5YjA1MGIxZGJlNThmMDIwNjY', 'repository': 'webplatform', 'format': 'docker', 'checksum': {'sha1': '284db259c27b39ac0515d2d7384d3d1d281300ce', 'sha256': '0e418318697e752b75ed2ead538783e0ec23e4e54b06f0bdf7e0b84fc0a0c03c'}}]}, {'id': 'd2VicGxhdGZvcm06Yzc3MDE2OWMwYjJlM2VkOGY2ZDY5ZjQzMWRmYzE4ODU', 'repository': 'webplatform', 'format': 'docker', 'group': None, 'name': 'api-platform-prod', 'version': '0.4', 'assets': [{'downloadUrl': 'https://nexus.fuchicorp.com/repository/webplatform/v2/api-platform-prod/manifests/0.4', 'path': 'v2/api-platform-prod/manifests/0.4', 'id': 'd2VicGxhdGZvcm06MzZlM2RlYzhkZTUyOGM5YjYxZTM4NDgzNzQwODNmM2Q', 'repository': 'webplatform', 'format': 'docker', 'checksum': {'sha1': 'b821f643b7438430d072a20b4ca4585c84407119', 'sha256': 'd351bab79222f801ba362245e14b1975c9db04943eca149859b7da70719c6269'}}]}], 'continuationToken': None}\n"
     ]
    }
   ],
   "source": [
    "print(py_data)"
   ]
  },
  {
   "cell_type": "code",
   "execution_count": null,
   "metadata": {},
   "outputs": [],
   "source": []
  }
 ],
 "metadata": {
  "kernelspec": {
   "display_name": "Python 3",
   "language": "python",
   "name": "python3"
  },
  "language_info": {
   "codemirror_mode": {
    "name": "ipython",
    "version": 3
   },
   "file_extension": ".py",
   "mimetype": "text/x-python",
   "name": "python",
   "nbconvert_exporter": "python",
   "pygments_lexer": "ipython3",
   "version": "3.6.5"
  }
 },
 "nbformat": 4,
 "nbformat_minor": 2
}
