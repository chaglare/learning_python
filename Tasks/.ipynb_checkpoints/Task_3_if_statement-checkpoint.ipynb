{
 "cells": [
  {
   "cell_type": "code",
   "execution_count": 3,
   "metadata": {},
   "outputs": [],
   "source": [
    "# 1. Create female list\n",
    "\n",
    "femela = ['ozi', 'anna', 'jane']\n",
    "\n"
   ]
  },
  {
   "cell_type": "code",
   "execution_count": 4,
   "metadata": {},
   "outputs": [],
   "source": [
    "# 2. Create male list\n",
    "\n",
    "male = ['caglar', 'emir', 'cagan']"
   ]
  },
  {
   "cell_type": "code",
   "execution_count": 7,
   "metadata": {},
   "outputs": [
    {
     "name": "stdout",
     "output_type": "stream",
     "text": [
      "{'first_name': 'kevin', 'last_name': 'wick', 'username': 'keving', 'gender': 'male', 'status': True, 'member': 'fuchicorp'}\n"
     ]
    }
   ],
   "source": [
    "# 3.  Create first object  call user1 with following information,\n",
    "    # 3.1 username  keving\n",
    "    # 3.2. status Should enabled with bool\n",
    "    # 3.3 first_name keving\n",
    "    # 3.4 last_name wick\n",
    "    # 3.4 gender male\n",
    "    # 3.5 member FuchiCorp\n",
    "\n",
    "    user1 = {\n",
    "        'first_name': 'kevin',\n",
    "        'last_name': 'wick',\n",
    "        'username': 'keving',\n",
    "        'gender': 'male',\n",
    "        'status': True,\n",
    "        'member' : 'fuchicorp'\n",
    "    }\n",
    "    \n",
    "    print(user1)"
   ]
  },
  {
   "cell_type": "code",
   "execution_count": 8,
   "metadata": {},
   "outputs": [
    {
     "name": "stdout",
     "output_type": "stream",
     "text": [
      "{'first_name': 'emma', 'last_name': 'gipson', 'username': 'cutiebun', 'gender': 'female', 'status': False, 'member': 'apple'}\n"
     ]
    }
   ],
   "source": [
    "# 4. Create second object call user2 with following information\n",
    "    # 1. username cutiebun\n",
    "    # 2. status should be disabled with bool\n",
    "    # 3. first_name Emma\n",
    "    # 4. last_name Gipson\n",
    "    # 5. gender female\n",
    "    # 6. member Apple\n",
    "    \n",
    "    user2 = {\n",
    "        'first_name': 'emma',\n",
    "        'last_name': 'gipson',\n",
    "        'username': 'cutiebun',\n",
    "        'gender': 'female',\n",
    "        'status': False,\n",
    "        'member' : 'apple'\n",
    "    }\n",
    "    \n",
    "    print(user2)\n"
   ]
  },
  {
   "cell_type": "code",
   "execution_count": 12,
   "metadata": {},
   "outputs": [
    {
     "name": "stdout",
     "output_type": "stream",
     "text": [
      "What is your name? : kevin\n"
     ]
    }
   ],
   "source": [
    "# 5. Create if statement to create proper email\n",
    "    # 1. If user's member is fuchicorp or apple\n",
    "    # 2. create key email and store the value firstname.lastname@member.com\n",
    "    # 3. Make sure email is properly set\n",
    "    \n",
    "name = input('What is your name? : ').capitalize()\n",
    "\n"
   ]
  },
  {
   "cell_type": "code",
   "execution_count": null,
   "metadata": {},
   "outputs": [],
   "source": [
    "if name == 'user1':\n",
    "    print(user1['first_name'],['last_name'],['member'])"
   ]
  }
 ],
 "metadata": {
  "kernelspec": {
   "display_name": "Python 3",
   "language": "python",
   "name": "python3"
  },
  "language_info": {
   "codemirror_mode": {
    "name": "ipython",
    "version": 3
   },
   "file_extension": ".py",
   "mimetype": "text/x-python",
   "name": "python",
   "nbconvert_exporter": "python",
   "pygments_lexer": "ipython3",
   "version": "3.6.5"
  }
 },
 "nbformat": 4,
 "nbformat_minor": 2
}
