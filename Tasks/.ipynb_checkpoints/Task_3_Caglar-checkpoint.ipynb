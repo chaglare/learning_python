{
 "cells": [
  {
   "cell_type": "code",
   "execution_count": 42,
   "metadata": {},
   "outputs": [],
   "source": [
    "# 1. Create female list\n",
    "\n",
    "femela = ['ozi', 'anna', 'jane']"
   ]
  },
  {
   "cell_type": "code",
   "execution_count": 43,
   "metadata": {},
   "outputs": [],
   "source": [
    "# 2. Create male list\n",
    "\n",
    "male = ['caglar', 'emir', 'cagan']"
   ]
  },
  {
   "cell_type": "code",
   "execution_count": 44,
   "metadata": {},
   "outputs": [
    {
     "name": "stdout",
     "output_type": "stream",
     "text": [
      "{'first_name': 'kevin', 'last_name': 'wick', 'username': 'keving', 'gender': 'male', 'status': True, 'member': 'fuchicorp'}\n"
     ]
    }
   ],
   "source": [
    "# 3.  Create first object  call user1 with following information,\n",
    "    # 3.1 username  keving\n",
    "    # 3.2. status Should enabled with bool\n",
    "    # 3.3 first_name keving\n",
    "    # 3.4 last_name wick\n",
    "    # 3.4 gender male\n",
    "    # 3.5 member FuchiCorp\n",
    "\n",
    "    user1 = {\n",
    "        'first_name': 'kevin',\n",
    "        'last_name': 'wick',\n",
    "        'username': 'keving',\n",
    "        'gender': 'male',\n",
    "        'status': True,\n",
    "        'member' : 'fuchicorp'\n",
    "    }\n",
    "    \n",
    "    print(user1)"
   ]
  },
  {
   "cell_type": "code",
   "execution_count": 45,
   "metadata": {},
   "outputs": [
    {
     "name": "stdout",
     "output_type": "stream",
     "text": [
      "{'first_name': 'emma', 'last_name': 'gipson', 'username': 'cutiebun', 'gender': 'female', 'status': False, 'member': 'apple'}\n"
     ]
    }
   ],
   "source": [
    "# 4. Create second object call user2 with following information\n",
    "    # 1. username cutiebun\n",
    "    # 2. status should be disabled with bool\n",
    "    # 3. first_name Emma\n",
    "    # 4. last_name Gipson\n",
    "    # 5. gender female\n",
    "    # 6. member Apple\n",
    "    \n",
    "    user2 = {\n",
    "        'first_name': 'emma',\n",
    "        'last_name': 'gipson',\n",
    "        'username': 'cutiebun',\n",
    "        'gender': 'female',\n",
    "        'status': False,\n",
    "        'member' : 'apple'\n",
    "    }\n",
    "    \n",
    "    print(user2)"
   ]
  },
  {
   "cell_type": "code",
   "execution_count": 46,
   "metadata": {},
   "outputs": [
    {
     "name": "stdout",
     "output_type": "stream",
     "text": [
      "What is your name? : KEVIN\n",
      "kevin.wick@fuchicorp.com\n"
     ]
    }
   ],
   "source": [
    "# 5. Create if statement to create proper email\n",
    "    # 1. If user's member is fuchicorp or apple\n",
    "    # 2. create key email and store the value firstname.lastname@member.com\n",
    "    # 3. Make sure email is properly set\n",
    "    \n",
    "name = input('What is your name? : ')\n",
    "name = name.lower()\n",
    "\n",
    "if name == 'kevin':\n",
    "    print('kevin.wick@fuchicorp.com')\n",
    "else: \n",
    "    print('emma.gipson@apple.com')"
   ]
  },
  {
   "cell_type": "code",
   "execution_count": 47,
   "metadata": {},
   "outputs": [
    {
     "name": "stdout",
     "output_type": "stream",
     "text": [
      "What is your name? : Emma\n",
      "emma.gipson@apple.com\n"
     ]
    }
   ],
   "source": [
    "# 5. Create if statement to create proper email\n",
    "    # 1. If user's member is fuchicorp or apple\n",
    "    # 2. create key email and store the value firstname.lastname@member.com\n",
    "    # 3. Make sure email is properly set\n",
    "    \n",
    "name = input('What is your name? : ')\n",
    "name = name.lower()\n",
    "\n",
    "if name == 'kevin':\n",
    "    print('kevin.wick@fuchicorp.com')\n",
    "if name == 'emma':\n",
    "    print('emma.gipson@apple.com')\n",
    "else:\n",
    "    print('you are not registered')"
   ]
  },
  {
   "cell_type": "code",
   "execution_count": 48,
   "metadata": {},
   "outputs": [
    {
     "name": "stdout",
     "output_type": "stream",
     "text": [
      "[{'first_name': 'kevin', 'last_name': 'wick', 'username': 'keving', 'gender': 'male', 'status': True, 'member': 'fuchicorp'}]\n",
      "[{'first_name': 'emma', 'last_name': 'gipson', 'username': 'cutiebun', 'gender': 'female', 'status': False, 'member': 'apple'}]\n"
     ]
    }
   ],
   "source": [
    "# 6. Create if staments to add gender of user1 user2\n",
    "#    1. if user is female add user to female list\n",
    "#    2. else if user is male add user to male list\n",
    "#    3. don't use elif we don't have something else :slightly_smiling_face: (edited)\n",
    "\n",
    "\n",
    "female_list = []\n",
    "male_list = []\n",
    "\n",
    "if user1 ['gender'] == 'male':\n",
    "    male_list.append(user1)\n",
    "else:\n",
    "    female_list.append (user1)\n",
    "    \n",
    "if user2 ['gender'] == 'male':\n",
    "    male_list.append(user2)\n",
    "else:\n",
    "    female_list.append (user2)\n",
    "\n",
    "\n",
    "print(male_list)\n",
    "print(female_list)    \n",
    "\n"
   ]
  }
 ],
 "metadata": {
  "kernelspec": {
   "display_name": "Python 3",
   "language": "python",
   "name": "python3"
  },
  "language_info": {
   "codemirror_mode": {
    "name": "ipython",
    "version": 3
   },
   "file_extension": ".py",
   "mimetype": "text/x-python",
   "name": "python",
   "nbconvert_exporter": "python",
   "pygments_lexer": "ipython3",
   "version": "3.6.5"
  }
 },
 "nbformat": 4,
 "nbformat_minor": 2
}
