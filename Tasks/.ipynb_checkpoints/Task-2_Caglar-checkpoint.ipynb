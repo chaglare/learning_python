{
 "cells": [
  {
   "cell_type": "code",
   "execution_count": 1,
   "metadata": {},
   "outputs": [],
   "source": [
    "# 1) Create empty list call github_users\n",
    "\n",
    "github_users = []"
   ]
  },
  {
   "cell_type": "code",
   "execution_count": 2,
   "metadata": {},
   "outputs": [
    {
     "name": "stdout",
     "output_type": "stream",
     "text": [
      "{'first_name': 'Emma', 'last_name': 'Lopes', 'username': 'emma-11', 'password': 'redhat'}\n"
     ]
    }
   ],
   "source": [
    "# 2) Create user user_emma username emma-11 firstname Emma lastname Lopes password redhat\n",
    "\n",
    "user_emma = {'first_name': 'Emma',\n",
    "           'last_name': 'Lopes',\n",
    "           'username': 'emma-11',\n",
    "           'password': 'redhat',}\n",
    "print(user_emma)"
   ]
  },
  {
   "cell_type": "code",
   "execution_count": 3,
   "metadata": {},
   "outputs": [
    {
     "name": "stdout",
     "output_type": "stream",
     "text": [
      "{'first_name': 'Frank', 'last_name': 'Smith', 'username': 'frank', 'password': 'frank2019'}\n"
     ]
    }
   ],
   "source": [
    "# 3) Create user user_smith username frank firstname Frank lastname Smith password frank2019\n",
    "\n",
    "user_frank = {'first_name': 'Frank',\n",
    "           'last_name': 'Smith',\n",
    "           'username': 'frank',\n",
    "           'password': 'frank2019',}\n",
    "print(user_frank)"
   ]
  },
  {
   "cell_type": "code",
   "execution_count": 4,
   "metadata": {},
   "outputs": [
    {
     "name": "stdout",
     "output_type": "stream",
     "text": [
      "['user_emma', 'user_frank']\n"
     ]
    }
   ],
   "source": [
    "# 4) Add these two users to github_users\n",
    "\n",
    "github_users.append ('user_emma')\n",
    "github_users.append ('user_frank')\n",
    "print(github_users)\n"
   ]
  },
  {
   "cell_type": "code",
   "execution_count": 6,
   "metadata": {},
   "outputs": [
    {
     "name": "stdout",
     "output_type": "stream",
     "text": [
      "user_emma\n"
     ]
    }
   ],
   "source": [
    "# 5) Print out the first users username\n",
    "print(github_users [0])"
   ]
  },
  {
   "cell_type": "code",
   "execution_count": null,
   "metadata": {},
   "outputs": [],
   "source": []
  }
 ],
 "metadata": {
  "kernelspec": {
   "display_name": "Python 3",
   "language": "python",
   "name": "python3"
  },
  "language_info": {
   "codemirror_mode": {
    "name": "ipython",
    "version": 3
   },
   "file_extension": ".py",
   "mimetype": "text/x-python",
   "name": "python",
   "nbconvert_exporter": "python",
   "pygments_lexer": "ipython3",
   "version": "3.6.5"
  }
 },
 "nbformat": 4,
 "nbformat_minor": 2
}
