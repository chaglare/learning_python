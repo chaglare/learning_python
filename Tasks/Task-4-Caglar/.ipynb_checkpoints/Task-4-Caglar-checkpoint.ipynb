{
 "cells": [
  {
   "cell_type": "markdown",
   "metadata": {},
   "source": [
    "# Task 4 Functions for loop and while loop"
   ]
  },
  {
   "cell_type": "markdown",
   "metadata": {},
   "source": [
    "1. Create variable call `data` copy everything from this link https://nexus.fuchicorp.com/service/rest/v1/components?repository=webplatform\n",
    "2. Create  function which will print, Function should print all items\n",
    "    1. Iterate each items inside data\n",
    "    2. format\n",
    "    3. name\n",
    "    4. version\n",
    "    5. repository"
   ]
  },
  {
   "cell_type": "code",
   "execution_count": 2,
   "metadata": {},
   "outputs": [
    {
     "name": "stdout",
     "output_type": "stream",
     "text": [
      "{'items': [{'id': 'd2VicGxhdGZvcm06Yzc3MDE2OWMwYjJlM2VkODUzYTc3Mjk4Y2UzYTgyNzU', 'repository': 'webplatform', 'format': 'docker', 'group': None, 'name': 'webplatform-qa', 'version': '0.27', 'assets': [{'downloadUrl': 'https://nexus.fuchicorp.com/repository/webplatform/v2/webplatform-qa/manifests/0.27', 'path': 'v2/webplatform-qa/manifests/0.27', 'id': 'd2VicGxhdGZvcm06MzZlM2RlYzhkZTUyOGM5YjhmNDM5NmZkYmY2MTllZWI', 'repository': 'webplatform', 'format': 'docker', 'checksum': {'sha1': 'd091baea493486e1293736c7a01bc637de3e35d9', 'sha256': '129daa1b75d5ab2bec907dfd1541169fb15d9df94aef0c91a8c40a739240317b'}}]}, {'id': 'd2VicGxhdGZvcm06Yzc3MDE2OWMwYjJlM2VkOGVmMzU2YWE0ZTliMmZlNDY', 'repository': 'webplatform', 'format': 'docker', 'group': None, 'name': 'webplatform-prod', 'version': '0.23', 'assets': [{'downloadUrl': 'https://nexus.fuchicorp.com/repository/webplatform/v2/webplatform-prod/manifests/0.23', 'path': 'v2/webplatform-prod/manifests/0.23', 'id': 'd2VicGxhdGZvcm06MzZlM2RlYzhkZTUyOGM5YjZhZWQzOGI0YzgxZjFlZjg', 'repository': 'webplatform', 'format': 'docker', 'checksum': {'sha1': 'aa91c4ab344ece99c2f97f4a31499b183377f947', 'sha256': 'ca0bed7e3e4140b19fceb23df483db4ec64039b4bf02c2e1ac1dfb8c39801244'}}]}, {'id': 'd2VicGxhdGZvcm06Yzc3MDE2OWMwYjJlM2VkODM1NzM2OGI0M2Q0ZGEzZDg', 'repository': 'webplatform', 'format': 'docker', 'group': None, 'name': 'webplatform-dev', 'version': '0.36', 'assets': [{'downloadUrl': 'https://nexus.fuchicorp.com/repository/webplatform/v2/webplatform-dev/manifests/0.36', 'path': 'v2/webplatform-dev/manifests/0.36', 'id': 'd2VicGxhdGZvcm06MzZlM2RlYzhkZTUyOGM5YjA5YjhmZDllMjUxNjJmYTg', 'repository': 'webplatform', 'format': 'docker', 'checksum': {'sha1': 'c5af14599fed0daf276b7a83f16cce7ffeaee403', 'sha256': 'b89c4cb05469e7235609a498e170f2c3ff16b6c369e87e2e6380cf2bd565f08a'}}]}, {'id': 'd2VicGxhdGZvcm06Yzc3MDE2OWMwYjJlM2VkODhhN2FhMjRiMWY4YzFiMTk', 'repository': 'webplatform', 'format': 'docker', 'group': None, 'name': 'api-platform-prod', 'version': '0.1', 'assets': [{'downloadUrl': 'https://nexus.fuchicorp.com/repository/webplatform/v2/api-platform-prod/manifests/0.1', 'path': 'v2/api-platform-prod/manifests/0.1', 'id': 'd2VicGxhdGZvcm06MzZlM2RlYzhkZTUyOGM5YjA1MGIxZGJlNThmMDIwNjY', 'repository': 'webplatform', 'format': 'docker', 'checksum': {'sha1': '284db259c27b39ac0515d2d7384d3d1d281300ce', 'sha256': '0e418318697e752b75ed2ead538783e0ec23e4e54b06f0bdf7e0b84fc0a0c03c'}}]}, {'id': 'd2VicGxhdGZvcm06Yzc3MDE2OWMwYjJlM2VkOGY2ZDY5ZjQzMWRmYzE4ODU', 'repository': 'webplatform', 'format': 'docker', 'group': None, 'name': 'api-platform-prod', 'version': '0.4', 'assets': [{'downloadUrl': 'https://nexus.fuchicorp.com/repository/webplatform/v2/api-platform-prod/manifests/0.4', 'path': 'v2/api-platform-prod/manifests/0.4', 'id': 'd2VicGxhdGZvcm06MzZlM2RlYzhkZTUyOGM5YjYxZTM4NDgzNzQwODNmM2Q', 'repository': 'webplatform', 'format': 'docker', 'checksum': {'sha1': 'b821f643b7438430d072a20b4ca4585c84407119', 'sha256': 'd351bab79222f801ba362245e14b1975c9db04943eca149859b7da70719c6269'}}]}], 'continuationToken': None}\n"
     ]
    }
   ],
   "source": [
    "import json\n",
    "\n",
    "with open('data.json') as example_json:\n",
    "    data = json.load(example_json)\n",
    "    \n",
    "print(data)"
   ]
  },
  {
   "cell_type": "code",
   "execution_count": 3,
   "metadata": {},
   "outputs": [
    {
     "name": "stdout",
     "output_type": "stream",
     "text": [
      "Format     : docker\n",
      "Name       : webplatform-qa\n",
      "Version    : 0.27\n",
      "Repository : webplatform\n",
      "\n",
      "Format     : docker\n",
      "Name       : webplatform-prod\n",
      "Version    : 0.23\n",
      "Repository : webplatform\n",
      "\n",
      "Format     : docker\n",
      "Name       : webplatform-dev\n",
      "Version    : 0.36\n",
      "Repository : webplatform\n",
      "\n",
      "Format     : docker\n",
      "Name       : api-platform-prod\n",
      "Version    : 0.1\n",
      "Repository : webplatform\n",
      "\n",
      "Format     : docker\n",
      "Name       : api-platform-prod\n",
      "Version    : 0.4\n",
      "Repository : webplatform\n",
      "\n"
     ]
    }
   ],
   "source": [
    "def weblist():\n",
    "    for item in data['items']:\n",
    "        print(\"Format     : \" + item['format'])\n",
    "        print(\"Name       : \" + item['name'])\n",
    "        print(\"Version    : \" + item['version'])\n",
    "        print(\"Repository : \" + item['repository'] + \"\\n\")\n",
    "            \n",
    "weblist()"
   ]
  },
  {
   "cell_type": "markdown",
   "metadata": {},
   "source": [
    "3. Create function call `findRepository`  function should take one argument `environment`\n",
    "    1. Iterate each items inside data\n",
    "    2. find from name environment contains repos\n",
    "    3. function should return every found repos as list"
   ]
  },
  {
   "cell_type": "code",
   "execution_count": 4,
   "metadata": {},
   "outputs": [],
   "source": [
    "def findRepository(environment):\n",
    "    for repo in data['items']:\n",
    "        if environment == repo['name']:\n",
    "            print(\"Format     : \" + repo['format'])\n",
    "            print(\"Name       : \" + repo['name'])\n",
    "            print(\"Version    : \" + repo['version'])\n",
    "            print(\"Repository : \" + repo['repository'] + \"\\n\")\n",
    "            break\n",
    "    else:\n",
    "        print('Repo not found')"
   ]
  },
  {
   "cell_type": "code",
   "execution_count": 5,
   "metadata": {},
   "outputs": [
    {
     "name": "stdout",
     "output_type": "stream",
     "text": [
      "Format     : docker\n",
      "Name       : webplatform-dev\n",
      "Version    : 0.36\n",
      "Repository : webplatform\n",
      "\n"
     ]
    }
   ],
   "source": [
    "findRepository('webplatform-dev')"
   ]
  },
  {
   "cell_type": "markdown",
   "metadata": {},
   "source": [
    "4. Create function call `checkVersions` which will ask from user to stop the code\n",
    "    1. Ask from user `which version you looking for? :`\n",
    "    2. Iterate each items inside data\n",
    "    3. if user enters version  function should print `Version Exist` or `Version is found`\n",
    "    4. function should ask from user `Do you want to continue? y/n`\n",
    "    5. if yes function should ask again from user first question\n",
    "    6. if user says no function should stop working (edited)\n"
   ]
  },
  {
   "cell_type": "code",
   "execution_count": 6,
   "metadata": {},
   "outputs": [],
   "source": [
    "def checkVersions():\n",
    "    while True:\n",
    "        version_name = input('Which version are you looking for? : ')\n",
    "        for version in data['items']:\n",
    "            if version_name == version['version']:\n",
    "                print('Version Exist')\n",
    "                break\n",
    "        else:\n",
    "            print('Version not found')\n",
    "        answer = input(\"Do you want to continue? y/n \")\n",
    "        if (answer == 'y'):\n",
    "            continue\n",
    "        else:\n",
    "            break"
   ]
  },
  {
   "cell_type": "code",
   "execution_count": 7,
   "metadata": {},
   "outputs": [
    {
     "name": "stdout",
     "output_type": "stream",
     "text": [
      "Which version are you looking for? : 0.36\n",
      "Version Exist\n",
      "Do you want to continue? y/n y\n",
      "Which version are you looking for? : 0.23\n",
      "Version Exist\n",
      "Do you want to continue? y/n y\n",
      "Which version are you looking for? : 0.27\n",
      "Version Exist\n",
      "Do you want to continue? y/n n\n"
     ]
    }
   ],
   "source": [
    "checkVersions()"
   ]
  },
  {
   "cell_type": "code",
   "execution_count": null,
   "metadata": {},
   "outputs": [],
   "source": []
  }
 ],
 "metadata": {
  "kernelspec": {
   "display_name": "Python 3",
   "language": "python",
   "name": "python3"
  },
  "language_info": {
   "codemirror_mode": {
    "name": "ipython",
    "version": 3
   },
   "file_extension": ".py",
   "mimetype": "text/x-python",
   "name": "python",
   "nbconvert_exporter": "python",
   "pygments_lexer": "ipython3",
   "version": "3.6.5"
  }
 },
 "nbformat": 4,
 "nbformat_minor": 2
}
