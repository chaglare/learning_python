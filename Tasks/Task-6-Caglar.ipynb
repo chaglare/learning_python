{
 "cells": [
  {
   "cell_type": "code",
   "execution_count": 60,
   "metadata": {},
   "outputs": [],
   "source": [
    "DIGITAL_TOKEN=\"ENTER YOUR TOKEN HERE\"\n",
    "\n",
    "import os\n",
    "import requests\n",
    "\n",
    "\n",
    "\n",
    "class DigitalClient:\n",
    "    def __init__(self, token):\n",
    "        self.auth = {\n",
    "            \"Authorization\" : \"Bearer {}\".format(os.environ.get('DIGITAL_TOKEN')),\n",
    "            \"Content-Type\"  : \"application/json\"\n",
    "        }\n",
    "    def get_list_droplets(self):\n",
    "        url = \"https://api.digitalocean.com/v2/droplets?page=1&per_page=1\"\n",
    "        droplets = requests.get(url=url, headers=self.auth)\n",
    "        if droplets.status_code == 200:\n",
    "            for item in droplets.json()['droplets']:\n",
    "                print(item['name'])\n",
    "    \n",
    "    def create_droplet(self, name, image, key):\n",
    "        url = \"https://api.digitalocean.com/v2/droplets\"\n",
    "        droplet = {\"name\":name,\n",
    "                   \"region\":\"nyc3\",\n",
    "                   \"size\":\"s-1vcpu-1gb\",\n",
    "                   \"image\":image,\n",
    "                   \"ssh_keys\": [key],\n",
    "                   \"backups\":False,\n",
    "                   \"ipv6\":True,\n",
    "                   \"user_data\":None,\n",
    "                   \"private_networking\":None,\n",
    "                   \"volumes\": None,\n",
    "                   \"tags\":[\"web\"]}\n",
    "\n",
    "        response = requests.post(url=url, headers=auth, json=droplet)\n",
    "        if response.status_code == 200 and response.status_code == 202:\n",
    "            print('Droplet {} is being created'.format(response.json()[\"droplet\"][\"name\"]))\n",
    "            \n",
    "                    \n",
    "   \n",
    "\n",
    "              \n",
    "    \n",
    "\n"
   ]
  },
  {
   "cell_type": "code",
   "execution_count": 62,
   "metadata": {
    "scrolled": true
   },
   "outputs": [
    {
     "name": "stdout",
     "output_type": "stream",
     "text": [
      "task6\n"
     ]
    }
   ],
   "source": [
    "do_client = DigitalClient(token)\n",
    "do_client.get_list_droplets()\n",
    "#do_client.create_droplet('task6','ubuntu-16-04-x64', '55:e7:00:bf:c4:15:81:07:d5:6a:0c:4b:21:59:62:6c')\n"
   ]
  },
  {
   "cell_type": "code",
   "execution_count": null,
   "metadata": {},
   "outputs": [],
   "source": []
  },
  {
   "cell_type": "code",
   "execution_count": null,
   "metadata": {},
   "outputs": [],
   "source": []
  },
  {
   "cell_type": "code",
   "execution_count": null,
   "metadata": {},
   "outputs": [],
   "source": []
  }
 ],
 "metadata": {
  "kernelspec": {
   "display_name": "Python 3",
   "language": "python",
   "name": "python3"
  },
  "language_info": {
   "codemirror_mode": {
    "name": "ipython",
    "version": 3
   },
   "file_extension": ".py",
   "mimetype": "text/x-python",
   "name": "python",
   "nbconvert_exporter": "python",
   "pygments_lexer": "ipython3",
   "version": "3.6.5"
  }
 },
 "nbformat": 4,
 "nbformat_minor": 2
}
