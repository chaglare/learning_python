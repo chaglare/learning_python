{
 "cells": [
  {
   "cell_type": "code",
   "execution_count": 20,
   "metadata": {},
   "outputs": [
    {
     "name": "stdout",
     "output_type": "stream",
     "text": [
      "This is my string type variable.\n"
     ]
    }
   ],
   "source": [
    "# 1) Create string data type variable call my_string value should be This is my string type variable. and print on next line.\n",
    "my_string = 'This is my string type variable.'\n",
    "print (my_string)"
   ]
  },
  {
   "cell_type": "code",
   "execution_count": 21,
   "metadata": {},
   "outputs": [
    {
     "name": "stdout",
     "output_type": "stream",
     "text": [
      " is my st\n"
     ]
    }
   ],
   "source": [
    "# 2) Create variable call my_cuted_string value should be is my st you should cut from my_string and print on next line.\n",
    "my_string = 'This is my string type variable.'\n",
    "word1, word2, word3, word4, word5, word6 = my_string.split (' ')\n",
    "total = f' {word1} {word2} {word3} {word4} {word5} {word6}'\n",
    "print (total[5:14])\n"
   ]
  },
  {
   "cell_type": "code",
   "execution_count": 19,
   "metadata": {},
   "outputs": [
    {
     "data": {
      "text/plain": [
       "int"
      ]
     },
     "execution_count": 19,
     "metadata": {},
     "output_type": "execute_result"
    }
   ],
   "source": [
    "# 3)  Create int type variable call my_integer value should be year on your birthday.\n",
    "my_integer = 1984\n",
    "\n",
    "type(my_integer)"
   ]
  },
  {
   "cell_type": "code",
   "execution_count": 22,
   "metadata": {},
   "outputs": [
    {
     "name": "stdout",
     "output_type": "stream",
     "text": [
      "35\n"
     ]
    }
   ],
   "source": [
    "# 4) Create variable call my_age and value should count from my_integer variable and print on next line.\n",
    "my_integer = 1984\n",
    "now = 2019\n",
    "myage = now - my_integer\n",
    "print (myage)"
   ]
  },
  {
   "cell_type": "code",
   "execution_count": 24,
   "metadata": {},
   "outputs": [
    {
     "name": "stdout",
     "output_type": "stream",
     "text": [
      "My name is Caglar and i am 35.\n"
     ]
    }
   ],
   "source": [
    "# 5) Create variable call my_name value should be your first name and print on next line My name is : your name and i am :your age .\n",
    "\n",
    "my_name = 'Caglar'\n",
    "my_integer = 1984\n",
    "now = 2019\n",
    "myage = now - my_integer\n",
    "print (f'My name is {my_name} and i am {myage}.')\n"
   ]
  },
  {
   "cell_type": "code",
   "execution_count": 26,
   "metadata": {},
   "outputs": [
    {
     "name": "stdout",
     "output_type": "stream",
     "text": [
      "['Abby', 'Jace', 'Nevaeh']\n"
     ]
    }
   ],
   "source": [
    "# 6) Create list call my_users with contents should be Abby, Jace, Nevaeh and print on next line.\n",
    "\n",
    "my_users = ['Abby']\n",
    "my_users.append('Jace')\n",
    "my_users.append('Nevaeh')\n",
    "print(my_users)"
   ]
  },
  {
   "cell_type": "code",
   "execution_count": 27,
   "metadata": {},
   "outputs": [
    {
     "name": "stdout",
     "output_type": "stream",
     "text": [
      "['Abby', 'Jace', 'Emma', 'Nevaeh']\n"
     ]
    }
   ],
   "source": [
    "# 7) Add user Emma after Jase and print on next line.\n",
    "\n",
    "my_users = ['Abby']\n",
    "my_users.append('Jace')\n",
    "my_users.append('Emma')\n",
    "my_users.append('Nevaeh')\n",
    "print(my_users)"
   ]
  },
  {
   "cell_type": "code",
   "execution_count": 39,
   "metadata": {},
   "outputs": [
    {
     "name": "stdout",
     "output_type": "stream",
     "text": [
      "['Abby', 'Jace', 'Emma', 'Nevaeh']\n"
     ]
    },
    {
     "data": {
      "text/plain": [
       "True"
      ]
     },
     "execution_count": 39,
     "metadata": {},
     "output_type": "execute_result"
    }
   ],
   "source": [
    "# 8) Check 2 user's name is Jace True or False\n",
    "\n",
    "my_users = ['Abby']\n",
    "my_users.append('Jace')\n",
    "my_users.append('Emma')\n",
    "my_users.append('Nevaeh')\n",
    "print(my_users)\n",
    "'Jace' in my_users"
   ]
  },
  {
   "cell_type": "code",
   "execution_count": 40,
   "metadata": {},
   "outputs": [
    {
     "name": "stdout",
     "output_type": "stream",
     "text": [
      "['Abby', 'Jace', 'Emma', 'Nevaeh']\n"
     ]
    },
    {
     "data": {
      "text/plain": [
       "False"
      ]
     },
     "execution_count": 40,
     "metadata": {},
     "output_type": "execute_result"
    }
   ],
   "source": [
    "# 8) Check 2 user's name is Jace True or False\n",
    "\n",
    "my_users = ['Abby']\n",
    "my_users.append('Jace')\n",
    "my_users.append('Emma')\n",
    "my_users.append('Nevaeh')\n",
    "print(my_users)\n",
    "'Caglar' in my_users"
   ]
  },
  {
   "cell_type": "code",
   "execution_count": null,
   "metadata": {},
   "outputs": [],
   "source": []
  }
 ],
 "metadata": {
  "kernelspec": {
   "display_name": "Python 3",
   "language": "python",
   "name": "python3"
  },
  "language_info": {
   "codemirror_mode": {
    "name": "ipython",
    "version": 3
   },
   "file_extension": ".py",
   "mimetype": "text/x-python",
   "name": "python",
   "nbconvert_exporter": "python",
   "pygments_lexer": "ipython3",
   "version": "3.6.5"
  }
 },
 "nbformat": 4,
 "nbformat_minor": 2
}
