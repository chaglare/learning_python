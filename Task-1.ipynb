{
 "cells": [
  {
   "cell_type": "code",
   "execution_count": 2,
   "metadata": {},
   "outputs": [
    {
     "name": "stdout",
     "output_type": "stream",
     "text": [
      "This is my string type variable.\n"
     ]
    }
   ],
   "source": [
    "# Answer 1\n",
    "my_string = 'This is my string type variable.'\n",
    "print (my_string)"
   ]
  },
  {
   "cell_type": "code",
   "execution_count": 9,
   "metadata": {},
   "outputs": [
    {
     "name": "stdout",
     "output_type": "stream",
     "text": [
      " is my st\n"
     ]
    }
   ],
   "source": [
    "# Answer 2\n",
    "my_string = 'This is my string type variable.'\n",
    "word1, word2, word3, word4, word5, word6 = my_string.split (' ')\n",
    "total = f' {word1} {word2} {word3} {word4} {word5} {word6}'\n",
    "print (total[5:14])\n"
   ]
  },
  {
   "cell_type": "code",
   "execution_count": 11,
   "metadata": {},
   "outputs": [
    {
     "name": "stdout",
     "output_type": "stream",
     "text": [
      "35\n"
     ]
    },
    {
     "data": {
      "text/plain": [
       "int"
      ]
     },
     "execution_count": 11,
     "metadata": {},
     "output_type": "execute_result"
    }
   ],
   "source": [
    "# Answer 3 & 4\n",
    "my_integer = 1984\n",
    "now = 2019\n",
    "myage = now - my_integer\n",
    "print (myage)\n",
    "type(my_integer)"
   ]
  },
  {
   "cell_type": "code",
   "execution_count": 24,
   "metadata": {},
   "outputs": [
    {
     "name": "stdout",
     "output_type": "stream",
     "text": [
      " My name is : ['Caglar']\n"
     ]
    }
   ],
   "source": [
    "\n",
    "type(my_integer)\n",
    "my_name = 'Caglar'\n",
    "word1 = my_name.split (' ')\n",
    "total = f' My name is : {word1}'\n",
    "print (total)\n"
   ]
  },
  {
   "cell_type": "code",
   "execution_count": null,
   "metadata": {},
   "outputs": [],
   "source": []
  },
  {
   "cell_type": "code",
   "execution_count": null,
   "metadata": {},
   "outputs": [],
   "source": []
  }
 ],
 "metadata": {
  "kernelspec": {
   "display_name": "Python 3",
   "language": "python",
   "name": "python3"
  },
  "language_info": {
   "codemirror_mode": {
    "name": "ipython",
    "version": 3
   },
   "file_extension": ".py",
   "mimetype": "text/x-python",
   "name": "python",
   "nbconvert_exporter": "python",
   "pygments_lexer": "ipython3",
   "version": "3.6.5"
  }
 },
 "nbformat": 4,
 "nbformat_minor": 2
}
