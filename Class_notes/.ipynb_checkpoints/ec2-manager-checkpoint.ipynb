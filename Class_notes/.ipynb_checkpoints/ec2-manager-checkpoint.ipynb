{
 "cells": [
  {
   "cell_type": "code",
   "execution_count": null,
   "metadata": {},
   "outputs": [],
   "source": [
    "#ec2.describe_instances()"
   ]
  },
  {
   "cell_type": "code",
   "execution_count": 20,
   "metadata": {},
   "outputs": [
    {
     "name": "stderr",
     "output_type": "stream",
     "text": [
      "usage: ipykernel_launcher.py [-h] [-n NAME] [-g GET]\n",
      "ipykernel_launcher.py: error: unrecognized arguments: -f /root/.local/share/jupyter/runtime/kernel-c398c1aa-4e04-4a7b-9e49-a41424213450.json\n"
     ]
    },
    {
     "ename": "SystemExit",
     "evalue": "2",
     "output_type": "error",
     "traceback": [
      "An exception has occurred, use %tb to see the full traceback.\n",
      "\u001b[0;31mSystemExit\u001b[0m\u001b[0;31m:\u001b[0m 2\n"
     ]
    },
    {
     "name": "stderr",
     "output_type": "stream",
     "text": [
      "/usr/lib/python3.6/site-packages/IPython/core/interactiveshell.py:3304: UserWarning: To exit: use 'exit', 'quit', or Ctrl-D.\n",
      "  warn(\"To exit: use 'exit', 'quit', or Ctrl-D.\", stacklevel=1)\n"
     ]
    }
   ],
   "source": [
    "import boto3\n",
    "import json \n",
    "import argparse\n",
    "\n",
    "#dir(ec2)\n",
    "\n",
    "ec2 = boto3.client('ec2')\n",
    "\n",
    "images = {\n",
    "    'aws-linux'  : 'ami-0d8f6eb4f641ef691',\n",
    "    'centos'     : 'ami-0f2b4fc905b0bd1f1',\n",
    "}\n",
    "\n",
    "\n",
    "parser = argparse.ArgumentParser(description='Script to manager EC2 instances.')\n",
    "\n",
    "required = parser.add_argument_group('required group')\n",
    "required.add_argument('-n', '--name', help='Please provide image name for ec2 instances.', required=False)\n",
    "\n",
    "notrequired = parser.add_argument_group('not required group')\n",
    "notrequired.add_argument('-g', '--get', help='Please provide image id', required=False)\n",
    "args = parser.parse_args()\n",
    "\n",
    "\n",
    "\n",
    "def get_instances():\n",
    "    data = ec2.describe_instances()\n",
    "    for item in data['Reservations']:\n",
    "        if item['Instances'][0]['State']['Name'].lower() == 'running':\n",
    "            print('InstanceId', item['Instances'][0]['InstanceId'])\n",
    "            print('SubnetId', item['Instances'][0]['SubnetId'])\n",
    "\n",
    "# Resource is needed when you need to create, start/stop or terminating\n",
    "def create_instance(name):\n",
    "    image_id = None \n",
    "    \n",
    "    if name in images.keys():\n",
    "        image_id =  images[name]\n",
    "    else:\n",
    "        print('Image not found ')\n",
    "\n",
    "    if image_id:\n",
    "        ec2 = boto3.resource('ec2')\n",
    "        ec2.create_instances(ImageId=image_id, MinCount=1, MaxCount=1, InstanceType='t2.micro')\n",
    "\n",
    "    \n",
    "def main():\n",
    "    if args.get:\n",
    "        get_instances()\n",
    "        exit()\n",
    "        \n",
    "    if args.name in images.keys():\n",
    "        create_instance(args.name)\n",
    "    else:\n",
    "        print('Image name is not supported.')\n",
    "    \n",
    "\n",
    "# every functions you have, they have to work in main function.\n",
    "if __name__ == \"__main__\" :\n",
    "    main()"
   ]
  },
  {
   "cell_type": "code",
   "execution_count": 17,
   "metadata": {},
   "outputs": [],
   "source": [
    "create_instance('aws-centos7')"
   ]
  },
  {
   "cell_type": "code",
   "execution_count": 19,
   "metadata": {},
   "outputs": [],
   "source": [
    "get_instances()"
   ]
  },
  {
   "cell_type": "code",
   "execution_count": null,
   "metadata": {},
   "outputs": [],
   "source": [
    "  images = {\n",
    "        'aws-centos7': 'ami-0f2b4fc905b0bd1f1',\n",
    "        'aws-amazon': 'ami-0d8f6eb4f641ef691'\n",
    "    }\n",
    "\n"
   ]
  },
  {
   "cell_type": "code",
   "execution_count": null,
   "metadata": {},
   "outputs": [],
   "source": []
  },
  {
   "cell_type": "code",
   "execution_count": null,
   "metadata": {},
   "outputs": [],
   "source": []
  }
 ],
 "metadata": {
  "kernelspec": {
   "display_name": "Python 3",
   "language": "python",
   "name": "python3"
  },
  "language_info": {
   "codemirror_mode": {
    "name": "ipython",
    "version": 3
   },
   "file_extension": ".py",
   "mimetype": "text/x-python",
   "name": "python",
   "nbconvert_exporter": "python",
   "pygments_lexer": "ipython3",
   "version": "3.6.5"
  }
 },
 "nbformat": 4,
 "nbformat_minor": 2
}
