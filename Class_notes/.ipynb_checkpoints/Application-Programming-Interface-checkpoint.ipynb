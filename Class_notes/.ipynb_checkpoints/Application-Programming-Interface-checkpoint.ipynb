{
 "cells": [
  {
   "cell_type": "code",
   "execution_count": null,
   "metadata": {},
   "outputs": [],
   "source": [
    "#import requests\n",
    "!python3.6 -m pip install requests\n"
   ]
  },
  {
   "cell_type": "code",
   "execution_count": null,
   "metadata": {},
   "outputs": [],
   "source": [
    "pip install --upgrade pip"
   ]
  },
  {
   "cell_type": "code",
   "execution_count": 8,
   "metadata": {},
   "outputs": [
    {
     "name": "stdout",
     "output_type": "stream",
     "text": [
      "{'anonymus': True, 'email': 'fuchicorpsolution@gmail.com', 'message': 'Welcome to FuchiCorp API', 'owner': 'Farkhod Sadykov', 'status': 200}\n"
     ]
    }
   ],
   "source": [
    "import requests\n",
    "\n",
    "response = requests.get('https://api.academy.fuchicorp.com')\n",
    "if response.status_code == 200:\n",
    "    print(response.json())\n",
    "else:\n",
    "    print('Something is wrong!!!')"
   ]
  },
  {
   "cell_type": "code",
   "execution_count": 9,
   "metadata": {},
   "outputs": [
    {
     "name": "stdout",
     "output_type": "stream",
     "text": [
      "Welcome to FuchiCorp API\n"
     ]
    }
   ],
   "source": [
    "response = requests.get('https://api.academy.fuchicorp.com').json()\n",
    "print(response['message'])"
   ]
  },
  {
   "cell_type": "code",
   "execution_count": 10,
   "metadata": {},
   "outputs": [
    {
     "name": "stdout",
     "output_type": "stream",
     "text": [
      "[]\n"
     ]
    }
   ],
   "source": [
    "response = requests.get('https://api.academy.fuchicorp.com/v0.1/example/users')\n",
    "if response.status_code == 200:\n",
    "    print(response.json())\n",
    "else:\n",
    "    print('Something is wrong!!!')"
   ]
  },
  {
   "cell_type": "code",
   "execution_count": 23,
   "metadata": {},
   "outputs": [
    {
     "name": "stdout",
     "output_type": "stream",
     "text": [
      "{'username': 'chaglare', 'password': 'redhat', 'firstname': 'caglar', 'lastname': 'cavdar', 'email': 'chaglare@gmail.com'}\n",
      "{'message': 'User already exist in system!!'}\n"
     ]
    }
   ],
   "source": [
    "user = {}\n",
    "user['username'] = 'chaglare'\n",
    "user['password'] = 'redhat'\n",
    "user['firstname'] = 'caglar'\n",
    "user['lastname'] = 'cavdar'\n",
    "user['email'] = 'chaglare@gmail.com'\n",
    "print(user)\n",
    "response = requests.post('http://api.academy.fuchicorp.com/v0.1/create_example/user', json=user)\n",
    "print(response.json())"
   ]
  },
  {
   "cell_type": "code",
   "execution_count": 21,
   "metadata": {},
   "outputs": [
    {
     "name": "stdout",
     "output_type": "stream",
     "text": [
      "{'message': 'User name or password is invalid'}\n"
     ]
    }
   ],
   "source": [
    "my_ID = '61a804fd-40f7-4081-b885-8aac1ce7d543'\n",
    "url = f'https://api.academy.fuchicorp.com/v0.1/update_example/user/{my_ID}'\n",
    "user = {}\n",
    "user['username'] = 'chaglare'\n",
    "user['password'] = 'redhat'\n",
    "user['firstname'] = 'emir'\n",
    "user['lastname'] = 'cavdar'\n",
    "user['email'] = 'emir@gmail.com'\n",
    "\n",
    "response = requests.put(url, json=user)\n",
    "print(response.json())\n",
    "\n",
    "\n",
    "# Ferhats server had a bug so it did not work"
   ]
  },
  {
   "cell_type": "code",
   "execution_count": null,
   "metadata": {},
   "outputs": [],
   "source": []
  }
 ],
 "metadata": {
  "kernelspec": {
   "display_name": "Python 3",
   "language": "python",
   "name": "python3"
  },
  "language_info": {
   "codemirror_mode": {
    "name": "ipython",
    "version": 3
   },
   "file_extension": ".py",
   "mimetype": "text/x-python",
   "name": "python",
   "nbconvert_exporter": "python",
   "pygments_lexer": "ipython3",
   "version": "3.6.5"
  }
 },
 "nbformat": 4,
 "nbformat_minor": 2
}
