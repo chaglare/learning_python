{
 "cells": [
  {
   "cell_type": "code",
   "execution_count": 15,
   "metadata": {},
   "outputs": [],
   "source": [
    "dataBase = []\n",
    "\n",
    "class Human:\n",
    "    \n",
    "    def __init__(self, givenFirstName, givenLastName, givenGender, givenStatus=None):\n",
    "        self.fname = givenFirstName\n",
    "        self.lname = givenLastName\n",
    "        self.gender = givenGender\n",
    "        self.status = givenStatus\n",
    "        if givenStatus is None:\n",
    "            self.status = False\n",
    "    \n",
    "    def print_info(self):                                       #self is required      \n",
    "        print(f' Hello, \\n My name is {self.fname}')\n",
    "    \n",
    "    def save_info(self):\n",
    "        \n",
    "        dataBase.append({'Firs Name' : self.fname,\n",
    "               'Last Name' : self.lname,\n",
    "               'Gender' : self.gender,\n",
    "                'Status' : self.status})\n",
    "               \n",
    "        print(f' {self.fname} has been added to Database!!')\n",
    "        \n",
    "user1 = Human('Kyle', 'Smith', 'Male',True)\n",
    "user2 = Human('Emma', 'Miller', 'Female')\n",
    "user3 = Human('Nadire', 'Saip', 'Female', True)\n",
    "\n",
    "\n"
   ]
  },
  {
   "cell_type": "code",
   "execution_count": 16,
   "metadata": {},
   "outputs": [
    {
     "name": "stdout",
     "output_type": "stream",
     "text": [
      "[]\n",
      " Kyle has been added to Database!!\n",
      " Emma has been added to Database!!\n",
      " Nadire has been added to Database!!\n",
      "[{'Firs Name': 'Kyle', 'Last Name': 'Smith', 'Gender': 'Male', 'Status': True}, {'Firs Name': 'Emma', 'Last Name': 'Miller', 'Gender': 'Female', 'Status': False}, {'Firs Name': 'Nadire', 'Last Name': 'Saip', 'Gender': 'Female', 'Status': True}]\n"
     ]
    }
   ],
   "source": [
    "print(dataBase)\n",
    "user1.save_info()\n",
    "user2.save_info()\n",
    "user3.save_info()\n",
    "print(dataBase)"
   ]
  },
  {
   "cell_type": "code",
   "execution_count": null,
   "metadata": {},
   "outputs": [],
   "source": [
    "def example_function(fname, lname, gender, status=None)\n",
    "\n",
    "\n",
    "print(user1.lname)\n",
    "user1.lname = 'Miller'\n",
    "print(user1.lname)"
   ]
  },
  {
   "cell_type": "code",
   "execution_count": null,
   "metadata": {},
   "outputs": [],
   "source": [
    "\n",
    "user2 = Human()\n",
    "user2.fname = 'Emma'\n",
    "user2.Lname = 'Miller'\n",
    "user2.gender = 'female'\n",
    "user2.status = True\n",
    "user2.print_info()"
   ]
  },
  {
   "cell_type": "code",
   "execution_count": null,
   "metadata": {},
   "outputs": [],
   "source": [
    "user1 = Human()\n",
    "user1.fname = 'Kyle'\n",
    "user1.Lname = 'Smith'\n",
    "user1.gender = 'male'\n",
    "user1.status = False\n",
    "user1.print_info()"
   ]
  },
  {
   "cell_type": "code",
   "execution_count": null,
   "metadata": {},
   "outputs": [],
   "source": [
    "example_user = {\n",
    "    'fname' : 'Kyle',\n",
    "    'lname' : 'Smith',\n",
    "    'gender' : 'male',\n",
    "    'status' : False\n",
    "}\n",
    "\n",
    "print(example_user['fname'])"
   ]
  },
  {
   "cell_type": "code",
   "execution_count": 28,
   "metadata": {},
   "outputs": [],
   "source": [
    "dataBase = []\n",
    "\n",
    "       \n",
    "        \n",
    "class Student(object):          #at the beginning, you have to enter object. In python 3, you dont have to enter\n",
    "    \n",
    "    def __init__(self, givenFirstName, givenLastName, givenGender, givenStatus=None):\n",
    "        self.fname  = givenFirstName\n",
    "        self.lname  = givenLastName\n",
    "        self.gender = givenGender\n",
    "        self.status = givenStatus\n",
    "        if givenStatus is None:\n",
    "            self.status = False\n",
    "        \n",
    "\n",
    "    def print_info(self):\n",
    "        print(f'Hi My name is {self.fname}')\n",
    "\n",
    "\n",
    "    def save_info(self):\n",
    "        \n",
    "        dataBase.append({\n",
    "               'FirstName': self.fname,\n",
    "               'LastName': self.lname,\n",
    "               'Gender': self.gender,\n",
    "               'Status': self.status})\n",
    "        print(f'{self.fname} has been added to Database!!')\n",
    "        \n",
    "\n",
    "class Manager(Student):\n",
    "    def__init__(self, givenFirstName, givenLastName, givenGender, givenRole, givenStatus=None):\n",
    "        self.role = givenRole\n",
    "        \n",
    "        super().__init__(self, givenFirstName, givenLastName, givenGender, givenStatus=None):\n",
    "            \n",
    "    def delete_user(self, name):\n",
    "        for user in dataBase:\n",
    "            if name in user['FirstName']:\n",
    "                dataBase.remove(user)\n",
    "                print(f'{user[\"FirstName\"]} has been deleted ')\n",
    "                break\n",
    "        else:\n",
    "            print('User not found')\n",
    "            \n",
    "\n",
    "user1 = Student('Kyle', 'Smith', 'Male', True)\n",
    "user2 = Student('Emma', 'Miller', 'Female')\n",
    "user3 = Student('Madina', 'Kyrgyzbayeva', 'Female')\n",
    "user4 = Student('Abdul', 'Sharif', 'Male')\n",
    "manager = Manager('Nodira', 'Saip', 'Female', True)"
   ]
  },
  {
   "cell_type": "code",
   "execution_count": 29,
   "metadata": {},
   "outputs": [
    {
     "name": "stdout",
     "output_type": "stream",
     "text": [
      "[]\n",
      "Kyle has been added to Database!!\n",
      "Emma has been added to Database!!\n",
      "Madina has been added to Database!!\n",
      "Abdul has been added to Database!!\n",
      "Abdul has been deleted \n",
      "[{'FirstName': 'Kyle', 'LastName': 'Smith', 'Gender': 'Male', 'Status': True}, {'FirstName': 'Emma', 'LastName': 'Miller', 'Gender': 'Female', 'Status': False}, {'FirstName': 'Madina', 'LastName': 'Kyrgyzbayeva', 'Gender': 'Female', 'Status': False}]\n"
     ]
    }
   ],
   "source": [
    "print(dataBase)\n",
    "user1.save_info()\n",
    "user2.save_info()\n",
    "user3.save_info()\n",
    "user4.save_info()\n",
    "manager.delete_user('Abdul')\n",
    "print(dataBase)"
   ]
  },
  {
   "cell_type": "code",
   "execution_count": null,
   "metadata": {},
   "outputs": [],
   "source": []
  }
 ],
 "metadata": {
  "kernelspec": {
   "display_name": "Python 3",
   "language": "python",
   "name": "python3"
  },
  "language_info": {
   "codemirror_mode": {
    "name": "ipython",
    "version": 3
   },
   "file_extension": ".py",
   "mimetype": "text/x-python",
   "name": "python",
   "nbconvert_exporter": "python",
   "pygments_lexer": "ipython3",
   "version": "3.6.5"
  }
 },
 "nbformat": 4,
 "nbformat_minor": 2
}
