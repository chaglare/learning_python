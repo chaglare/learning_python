{
 "cells": [
  {
   "cell_type": "code",
   "execution_count": 5,
   "metadata": {},
   "outputs": [
    {
     "name": "stdout",
     "output_type": "stream",
     "text": [
      "env: DIGITAL_TOKEN=90d7e17cc5270c517903ccfeb05d7c9a020b54853afefbe5235f3db8e3da3a71\n"
     ]
    }
   ],
   "source": [
    "%set_env DIGITAL_TOKEN=90d7e17cc5270c517903ccfeb05d7c9a020b54853afefbe5235f3db8e3da3a71"
   ]
  },
  {
   "cell_type": "code",
   "execution_count": 6,
   "metadata": {},
   "outputs": [
    {
     "name": "stdout",
     "output_type": "stream",
     "text": [
      "{'droplets': [], 'links': {}, 'meta': {'total': 0}}\n"
     ]
    }
   ],
   "source": [
    "import os\n",
    "import requests\n",
    "auth = {\n",
    "    \"Authorization\" : \"Bearer {}\".format(os.environ.get('DIGITAL_TOKEN')),\n",
    "    \"Content-Type\"  : \"application/json\"\n",
    "}\n",
    "\n",
    "def get_list_droplets():\n",
    "    url = \"https://api.digitalocean.com/v2/droplets?page=1&per_page=1\"\n",
    "    response = requests.get(url=url, headers=auth)\n",
    "    if response.status_code == 200:\n",
    "        print(response.json())\n",
    "    else:\n",
    "        print(f'API returned {response.status_code}')\n",
    "\n",
    "        \n",
    "get_list_droplets()"
   ]
  },
  {
   "cell_type": "code",
   "execution_count": 15,
   "metadata": {},
   "outputs": [
    {
     "name": "stdout",
     "output_type": "stream",
     "text": [
      "API returned 202\n",
      "API returned 202\n",
      "API returned 202\n",
      "API returned 202\n"
     ]
    }
   ],
   "source": [
    "import os\n",
    "import requests\n",
    "auth = {\n",
    "    \"Authorization\" : \"Bearer {}\".format(os.environ.get('DIGITAL_TOKEN')),\n",
    "    \"Content-Type\"  : \"application/json\"\n",
    "}\n",
    "\n",
    "def get_list_droplets():\n",
    "    url = \"https://api.digitalocean.com/v2/droplets\"\n",
    "    response = requests.get(url=url, headers=auth)\n",
    "    if response.status_code == 200:\n",
    "        print(response.json())\n",
    "    else:\n",
    "        print(f'API returned {response.status_code}')\n",
    "\n",
    "\n",
    "#curl -X POST -d'{\"name\":\"example.com\",\"region\":\"nyc3\",\"size\":\"s-1vcpu-1gb\",\"image\":\"ubuntu-16-04-x64\",\"ssh_keys\":[107149],\"backups\":false,\"ipv6\":true,\"user_data\":null,\"private_networking\":null,\"volumes\": null,\"tags\":[\"web\"]}'\n",
    "\n",
    "def create_droplet(name, image):\n",
    "    url = \"https://api.digitalocean.com/v2/droplets\"\n",
    "    droplet = {\"name\":name,\n",
    "               \"region\":\"nyc3\",\n",
    "               \"size\":\"s-1vcpu-1gb\",\n",
    "               \"image\":image,\n",
    "               \"backups\":False,\n",
    "               \"ipv6\":True,\n",
    "               \"user_data\":None,\n",
    "               \"private_networking\":None,\n",
    "               \"volumes\": None,\n",
    "               \"tags\":[\"web\"]}\n",
    "    \n",
    "    response = requests.post(url=url, headers=auth, json=droplet)\n",
    "    if response.status_code == 200 and response.status_code == 202:\n",
    "        print('Droplet has been created !!' )\n",
    "        \n",
    "    else:\n",
    "        print(f'API returned {response.status_code}')\n",
    "\n",
    "droplet_list = ['MYSQL', 'HTTPD-SERVER', 'DOCKER', 'DAC-SERVER']\n",
    "for droplet in droplet_list:\n",
    "    create_droplet(droplet, 'ubuntu-16-04-x64')"
   ]
  },
  {
   "cell_type": "code",
   "execution_count": 8,
   "metadata": {},
   "outputs": [
    {
     "name": "stdout",
     "output_type": "stream",
     "text": [
      "{'name': 'example.com', 'region': 'nyc3', 'size': 's-1vcpu-1gb', 'image': 'ubuntu-16-04-x64', 'ssh_keys': [107149], 'backups': False, 'ipv6': True, 'user_data': None, 'private_networking': None, 'volumes': None, 'tags': ['web']}\n"
     ]
    }
   ],
   "source": [
    "import json\n",
    "print(json.loads('{\"name\":\"example.com\",\"region\":\"nyc3\",\"size\":\"s-1vcpu-1gb\",\"image\":\"ubuntu-16-04-x64\",\"ssh_keys\":[107149],\"backups\":false,\"ipv6\":true,\"user_data\":null,\"private_networking\":null,\"volumes\": null,\"tags\":[\"web\"]}'))"
   ]
  },
  {
   "cell_type": "code",
   "execution_count": null,
   "metadata": {},
   "outputs": [],
   "source": []
  },
  {
   "cell_type": "code",
   "execution_count": null,
   "metadata": {},
   "outputs": [],
   "source": []
  }
 ],
 "metadata": {
  "kernelspec": {
   "display_name": "Python 3",
   "language": "python",
   "name": "python3"
  },
  "language_info": {
   "codemirror_mode": {
    "name": "ipython",
    "version": 3
   },
   "file_extension": ".py",
   "mimetype": "text/x-python",
   "name": "python",
   "nbconvert_exporter": "python",
   "pygments_lexer": "ipython3",
   "version": "3.6.5"
  }
 },
 "nbformat": 4,
 "nbformat_minor": 2
}
