{
 "cells": [
  {
   "cell_type": "code",
   "execution_count": null,
   "metadata": {},
   "outputs": [],
   "source": [
    "def my_function():\n",
    "    print('Hello from function')"
   ]
  },
  {
   "cell_type": "code",
   "execution_count": null,
   "metadata": {},
   "outputs": [],
   "source": [
    "print(my_function)"
   ]
  },
  {
   "cell_type": "code",
   "execution_count": null,
   "metadata": {},
   "outputs": [],
   "source": [
    "my_function()"
   ]
  },
  {
   "cell_type": "code",
   "execution_count": null,
   "metadata": {},
   "outputs": [],
   "source": [
    "def my_function(username, password):\n",
    "    print(f'User {username}')\n",
    "    print(f'Password {password}')"
   ]
  },
  {
   "cell_type": "code",
   "execution_count": null,
   "metadata": {},
   "outputs": [],
   "source": [
    "my_function('caglar', 'redhat')"
   ]
  },
  {
   "cell_type": "code",
   "execution_count": null,
   "metadata": {},
   "outputs": [],
   "source": [
    "evolvecyberDatabase = []\n",
    "def new_student(first_name, last_name, username, group):\n",
    "    student = {}\n",
    "    student['first_name'] = first_name.capitalize()\n",
    "    student['last_name']  = last_name.capitalize()\n",
    "    student['username']   = username.lower()\n",
    "    student['group']      = group.capitalize()\n",
    "    evolvecyberDatabase.append(student)\n",
    "    print(f'User {username}, has been added to EvolveCyber.')\n",
    "   "
   ]
  },
  {
   "cell_type": "code",
   "execution_count": null,
   "metadata": {},
   "outputs": [],
   "source": [
    "new_student('Aziza', 'Nemad', 'aziza93', 'devops')\n",
    "new_student('caglar', 'cavdar', 'caglar16', 'dev')"
   ]
  },
  {
   "cell_type": "code",
   "execution_count": null,
   "metadata": {},
   "outputs": [],
   "source": [
    "print(evolvecyberDatabase)"
   ]
  },
  {
   "cell_type": "code",
   "execution_count": null,
   "metadata": {},
   "outputs": [],
   "source": [
    "print(evolvecyberDatabase[0])"
   ]
  },
  {
   "cell_type": "code",
   "execution_count": null,
   "metadata": {},
   "outputs": [],
   "source": [
    "print(evolvecyberDatabase[1])"
   ]
  },
  {
   "cell_type": "code",
   "execution_count": 27,
   "metadata": {},
   "outputs": [],
   "source": [
    "evolvecyberDatabase = []\n",
    "def new_student(first_name, last_name, username, group):\n",
    "    student = {}\n",
    "    student['first_name'] = first_name.capitalize()\n",
    "    student['last_name']  = last_name.capitalize()\n",
    "    student['username']   = username.lower()\n",
    "    student['group']      = group.capitalize()\n",
    "    evolvecyberDatabase.append(student)\n",
    "    print(f'User {username}, has been added to EvolveCyber.')\n",
    "   \n",
    "def delete_student(username):\n",
    "    for user in evolvecyberDatabase:\n",
    "        if user['username'] == username:\n",
    "            evolvecyberDatabase.remove(user)\n",
    "            print(f'User {username}, has been deleted from evolveCyber.')\n",
    "    else:\n",
    "        print('user not found')"
   ]
  },
  {
   "cell_type": "code",
   "execution_count": 28,
   "metadata": {},
   "outputs": [
    {
     "name": "stdout",
     "output_type": "stream",
     "text": [
      "User aziza93, has been added to EvolveCyber.\n",
      "User caglar16, has been added to EvolveCyber.\n",
      "User nsaip, has been added to EvolveCyber.\n",
      "User abduls, has been added to EvolveCyber.\n"
     ]
    }
   ],
   "source": [
    "new_student('Aziza', 'Nemad', 'aziza93', 'devops')\n",
    "new_student('caglar', 'cavdar', 'caglar16', 'dev')\n",
    "new_student('nadire', 'saip', 'nsaip', 'devops')\n",
    "new_student('abdul', 'sharif', 'abduls', 'dev')"
   ]
  },
  {
   "cell_type": "code",
   "execution_count": 29,
   "metadata": {},
   "outputs": [
    {
     "name": "stdout",
     "output_type": "stream",
     "text": [
      "[{'first_name': 'Aziza', 'last_name': 'Nemad', 'username': 'aziza93', 'group': 'Devops'}, {'first_name': 'Caglar', 'last_name': 'Cavdar', 'username': 'caglar16', 'group': 'Dev'}, {'first_name': 'Nadire', 'last_name': 'Saip', 'username': 'nsaip', 'group': 'Devops'}, {'first_name': 'Abdul', 'last_name': 'Sharif', 'username': 'abduls', 'group': 'Dev'}]\n",
      "User aziza93, has been deleted from evolveCyber.\n",
      "user not found\n"
     ]
    }
   ],
   "source": [
    "print(evolvecyberDatabase)\n",
    "delete_student('aziza93')"
   ]
  },
  {
   "cell_type": "code",
   "execution_count": 30,
   "metadata": {},
   "outputs": [],
   "source": [
    "evolvecyberDatabase = []\n",
    "def new_student(first_name, last_name, username, group):\n",
    "    student = {}\n",
    "    student['first_name'] = first_name.capitalize()\n",
    "    student['last_name']  = last_name.capitalize()\n",
    "    student['username']   = username.lower()\n",
    "    student['group']      = group.capitalize()\n",
    "    evolvecyberDatabase.append(student)\n",
    "    print(f'User {username}, has been added to EvolveCyber.')\n",
    "   \n",
    "def delete_student(username):\n",
    "    for user in evolvecyberDatabase:\n",
    "        if user['username'] == username:\n",
    "            evolvecyberDatabase.remove(user)\n",
    "            print(f'User {username}, has been deleted from evolveCyber.')\n",
    "    else:\n",
    "        print('user not found')\n",
    "            \n",
    "            \n",
    "def change_fullname(username, first_name = None, last_name = None):\n",
    "    print(username, first_name, last_name)\n",
    "    "
   ]
  },
  {
   "cell_type": "code",
   "execution_count": 31,
   "metadata": {},
   "outputs": [
    {
     "name": "stdout",
     "output_type": "stream",
     "text": [
      "caglar16 None None\n"
     ]
    }
   ],
   "source": [
    "change_fullname('caglar16')"
   ]
  },
  {
   "cell_type": "code",
   "execution_count": 32,
   "metadata": {},
   "outputs": [
    {
     "name": "stdout",
     "output_type": "stream",
     "text": [
      "caglar16 caglar cavdar\n"
     ]
    }
   ],
   "source": [
    "change_fullname('caglar16', 'caglar', 'cavdar' )"
   ]
  },
  {
   "cell_type": "code",
   "execution_count": 33,
   "metadata": {},
   "outputs": [],
   "source": [
    "evolvecyberDatabase = []\n",
    "def new_student(first_name, last_name, username, group):\n",
    "    student = {}\n",
    "    student['first_name'] = first_name.capitalize()\n",
    "    student['last_name']  = last_name.capitalize()\n",
    "    student['username']   = username.lower()\n",
    "    student['group']      = group.capitalize()\n",
    "    evolvecyberDatabase.append(student)\n",
    "    print(f'User {username}, has been added to EvolveCyber.')\n",
    "   \n",
    "def delete_student(username):\n",
    "    for user in evolvecyberDatabase:\n",
    "        if user['username'] == username:\n",
    "            evolvecyberDatabase.remove(user)\n",
    "            print(f'User {username}, has been deleted from evolveCyber.')\n",
    "    else:\n",
    "        print('user not found')\n",
    "            \n",
    "            \n",
    "def change_fullname(username, first_name = None, last_name = None):\n",
    "    for user in evolvecyberDatabase:\n",
    "        if user['username'] == username:\n",
    "            user['first_name'] == first_name\n",
    "            user['last_name'] == last_name\n",
    "            print('user has been updated')\n",
    "    "
   ]
  },
  {
   "cell_type": "code",
   "execution_count": 34,
   "metadata": {},
   "outputs": [
    {
     "name": "stdout",
     "output_type": "stream",
     "text": [
      "User aziza93, has been added to EvolveCyber.\n",
      "User caglar16, has been added to EvolveCyber.\n",
      "User nsaip, has been added to EvolveCyber.\n",
      "User abduls, has been added to EvolveCyber.\n"
     ]
    }
   ],
   "source": [
    "new_student('Aziza', 'Nemad', 'aziza93', 'devops')\n",
    "new_student('caglar', 'cavdar', 'caglar16', 'dev')\n",
    "new_student('nadire', 'saip', 'nsaip', 'devops')\n",
    "new_student('abdul', 'sharif', 'abduls', 'dev')"
   ]
  },
  {
   "cell_type": "code",
   "execution_count": 35,
   "metadata": {},
   "outputs": [
    {
     "name": "stdout",
     "output_type": "stream",
     "text": [
      "[{'first_name': 'Aziza', 'last_name': 'Nemad', 'username': 'aziza93', 'group': 'Devops'}, {'first_name': 'Caglar', 'last_name': 'Cavdar', 'username': 'caglar16', 'group': 'Dev'}, {'first_name': 'Nadire', 'last_name': 'Saip', 'username': 'nsaip', 'group': 'Devops'}, {'first_name': 'Abdul', 'last_name': 'Sharif', 'username': 'abduls', 'group': 'Dev'}]\n"
     ]
    }
   ],
   "source": [
    "print(evolvecyberDatabase)"
   ]
  },
  {
   "cell_type": "code",
   "execution_count": 36,
   "metadata": {},
   "outputs": [
    {
     "name": "stdout",
     "output_type": "stream",
     "text": [
      "user has been updated\n",
      "{'first_name': 'Aziza', 'last_name': 'Nemad', 'username': 'aziza93', 'group': 'Devops'}\n",
      "{'first_name': 'Caglar', 'last_name': 'Cavdar', 'username': 'caglar16', 'group': 'Dev'}\n",
      "{'first_name': 'Nadire', 'last_name': 'Saip', 'username': 'nsaip', 'group': 'Devops'}\n",
      "{'first_name': 'Abdul', 'last_name': 'Sharif', 'username': 'abduls', 'group': 'Dev'}\n"
     ]
    }
   ],
   "source": [
    "change_fullname('caglar16', 'Chaglare')\n",
    "for item in evolvecyberDatabase:\n",
    "    print(item)"
   ]
  },
  {
   "cell_type": "code",
   "execution_count": 37,
   "metadata": {},
   "outputs": [],
   "source": [
    "evolvecyberDatabase = []\n",
    "def new_student(first_name, last_name, username, group):\n",
    "    student = {}\n",
    "    student['first_name'] = first_name.capitalize()\n",
    "    student['last_name']  = last_name.capitalize()\n",
    "    student['username']   = username.lower()\n",
    "    student['group']      = group.capitalize()\n",
    "    evolvecyberDatabase.append(student)\n",
    "    print(f'User {username}, has been added to EvolveCyber.')\n",
    "   \n",
    "def delete_student(username):\n",
    "    for user in evolvecyberDatabase:\n",
    "        if user['username'] == username:\n",
    "            evolvecyberDatabase.remove(user)\n",
    "            print(f'User {username}, has been deleted from evolveCyber.')\n",
    "    else:\n",
    "        print('user not found')\n",
    "            \n",
    "            \n",
    "def change_fullname(username, first_name = None, last_name = None):\n",
    "    for user in evolvecyberDatabase:\n",
    "        if user['username'] == username:\n",
    "            user['first_name'] == first_name\n",
    "            user['last_name'] == last_name\n",
    "            print('user has been updated')\n",
    "            \n",
    "            \n",
    "def is_student_exist(username):\n",
    "    for user in evolvecyberDatabase:\n",
    "        if username == user['username']:\n",
    "            return True\n",
    "        return False\n"
   ]
  },
  {
   "cell_type": "code",
   "execution_count": 38,
   "metadata": {},
   "outputs": [
    {
     "name": "stdout",
     "output_type": "stream",
     "text": [
      "None\n"
     ]
    }
   ],
   "source": [
    "print(is_student_exist('caglar16'))"
   ]
  },
  {
   "cell_type": "code",
   "execution_count": null,
   "metadata": {},
   "outputs": [],
   "source": [
    "ask why it does not work"
   ]
  },
  {
   "cell_type": "code",
   "execution_count": 22,
   "metadata": {},
   "outputs": [],
   "source": [
    "## Create a function:\n",
    "# 1. function should find user return user\n",
    "# 2. if user does not exist return False"
   ]
  },
  {
   "cell_type": "code",
   "execution_count": 39,
   "metadata": {},
   "outputs": [],
   "source": [
    "evolvecyberDatabase = []\n",
    "def new_student(first_name, last_name, username, group):\n",
    "    student = {}\n",
    "    student['first_name'] = first_name.capitalize()\n",
    "    student['last_name']  = last_name.capitalize()\n",
    "    student['username']   = username.lower()\n",
    "    student['group']      = group.capitalize()\n",
    "    evolvecyberDatabase.append(student)\n",
    "    print(f'User {username}, has been added to EvolveCyber.')\n",
    "   \n",
    "def delete_student(username):\n",
    "    for user in evolvecyberDatabase:\n",
    "        if user['username'] == username:\n",
    "            evolvecyberDatabase.remove(user)\n",
    "            print(f'User {username}, has been deleted from evolveCyber.')\n",
    "    else:\n",
    "        print('user not found')\n",
    "            \n",
    "            \n",
    "def change_fullname(username, first_name = None, last_name = None):\n",
    "    for user in evolvecyberDatabase:\n",
    "        if user['username'] == username:\n",
    "            user['first_name'] == first_name\n",
    "            user['last_name'] == last_name\n",
    "            print('user has been updated')\n",
    "            \n",
    "            \n",
    "def is_student_exist(username):\n",
    "    for user in evolvecyberDatabase:\n",
    "        if username == user['username']:\n",
    "            return True\n",
    "        return False\n",
    "\n",
    "def find_student (username):\n",
    "    for user in evolvecyberDatabase:\n",
    "        if username == user['username']:\n",
    "            return user\n",
    "        return False"
   ]
  },
  {
   "cell_type": "code",
   "execution_count": 40,
   "metadata": {},
   "outputs": [
    {
     "name": "stdout",
     "output_type": "stream",
     "text": [
      "User aziza93, has been added to EvolveCyber.\n",
      "User caglar16, has been added to EvolveCyber.\n",
      "User nsaip, has been added to EvolveCyber.\n",
      "User abduls, has been added to EvolveCyber.\n"
     ]
    }
   ],
   "source": [
    "new_student('Aziza', 'Nemad', 'aziza93', 'devops')\n",
    "new_student('caglar', 'cavdar', 'caglar16', 'dev')\n",
    "new_student('nadire', 'saip', 'nsaip', 'devops')\n",
    "new_student('abdul', 'sharif', 'abduls', 'dev')"
   ]
  },
  {
   "cell_type": "code",
   "execution_count": null,
   "metadata": {},
   "outputs": [],
   "source": [
    "for item in evolvecyberDatabase:\n",
    "    if item['username'] == 'aziza93':\n",
    "        evolvecyberDatabase.remove(item)\n",
    "        "
   ]
  }
 ],
 "metadata": {
  "kernelspec": {
   "display_name": "Python 3",
   "language": "python",
   "name": "python3"
  },
  "language_info": {
   "codemirror_mode": {
    "name": "ipython",
    "version": 3
   },
   "file_extension": ".py",
   "mimetype": "text/x-python",
   "name": "python",
   "nbconvert_exporter": "python",
   "pygments_lexer": "ipython3",
   "version": "3.6.5"
  }
 },
 "nbformat": 4,
 "nbformat_minor": 2
}
