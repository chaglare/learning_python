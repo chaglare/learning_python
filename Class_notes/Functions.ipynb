{
 "cells": [
  {
   "cell_type": "code",
   "execution_count": 26,
   "metadata": {},
   "outputs": [],
   "source": [
    "evolveCyberDatabase = []\n",
    "\n",
    "def new_student(first_name, last_name, username, group):\n",
    "    student = {}\n",
    "    student['first-name'] = first_name.capitalize()\n",
    "    student['last-name']  = last_name.capitalize()\n",
    "    student['username']   = username.lower()\n",
    "    student['group']      = group.capitalize()\n",
    "    evolveCyberDatabase.append(student)\n",
    "    print(f'User {username}, has been added to EvolveCyber.')\n",
    "    \n",
    "    \n",
    "def delete_student(username):\n",
    "    for user in evolveCyberDatabase:\n",
    "        if user['username'] == username:\n",
    "            evolveCyberDatabase.remove(user)\n",
    "            print(f'User {username}, has been deleted from EvolveCyber.')\n",
    "    else:\n",
    "        print('User not found')\n",
    "\n",
    "\n",
    "def change_fullname(username, first_name = None, last_name = None):\n",
    "    for user in evolveCyberDatabase:\n",
    "        if user['username'] == username:\n",
    "            \n",
    "            if first_name:\n",
    "                user['first-name'] = first_name\n",
    "                print('First Name has been udpated.')\n",
    "\n",
    "            if last_name:\n",
    "                user['last-name']  = last_name\n",
    "                print('Last Name has been udpated.')\n",
    "\n",
    "def is_student_exist(username):\n",
    "    for user in evolveCyberDatabase:\n",
    "        if username == user['username']:\n",
    "            return True\n",
    "    return False\n",
    "\n",
    "\n",
    "def find_student(username):\n",
    "    for user in evolveCyberDatabase:\n",
    "        if username == user['username']:\n",
    "            return user\n",
    "    return False"
   ]
  },
  {
   "cell_type": "markdown",
   "metadata": {},
   "source": [
    "## Create a function \n",
    "1. Function should find user return user \n",
    "2. if user does not exist return False\n"
   ]
  },
  {
   "cell_type": "code",
   "execution_count": 27,
   "metadata": {
    "scrolled": true
   },
   "outputs": [
    {
     "name": "stdout",
     "output_type": "stream",
     "text": [
      "User azia93, has been added to EvolveCyber.\n",
      "User abdulcoder, has been added to EvolveCyber.\n",
      "User fsadykov, has been added to EvolveCyber.\n",
      "User nsaip, has been added to EvolveCyber.\n"
     ]
    }
   ],
   "source": [
    "new_student('aziza', 'nemad', 'azia93', 'devops')\n",
    "new_student('abdul', 'sharif', 'abdulcoder', 'dev')\n",
    "new_student('farkhod', 'sadykpov', 'fsadykov', 'dev')\n",
    "new_student('nodira', 'saip', 'nsaip', 'devop')"
   ]
  },
  {
   "cell_type": "code",
   "execution_count": 28,
   "metadata": {},
   "outputs": [
    {
     "name": "stdout",
     "output_type": "stream",
     "text": [
      "{'first-name': 'Farkhod', 'last-name': 'Sadykpov', 'username': 'fsadykov', 'group': 'Dev'}\n",
      "False\n"
     ]
    }
   ],
   "source": [
    "fsadykov_user = find_student('fsadykov')\n",
    "print(fsadykov_user)\n",
    "noneUser = find_student('none')\n",
    "print(noneUser)"
   ]
  },
  {
   "cell_type": "code",
   "execution_count": 15,
   "metadata": {},
   "outputs": [
    {
     "name": "stdout",
     "output_type": "stream",
     "text": [
      "True\n",
      "False\n"
     ]
    }
   ],
   "source": [
    "print(is_student_exist('fsadykov'))\n",
    "print(is_student_exist('beki'))"
   ]
  },
  {
   "cell_type": "code",
   "execution_count": 5,
   "metadata": {},
   "outputs": [
    {
     "name": "stdout",
     "output_type": "stream",
     "text": [
      "First Name has been udpated.\n",
      "Last Name has been udpated.\n"
     ]
    }
   ],
   "source": [
    "change_fullname('fsadykov', 'Nazira', 'Sadykova')\n"
   ]
  },
  {
   "cell_type": "code",
   "execution_count": 6,
   "metadata": {},
   "outputs": [
    {
     "name": "stdout",
     "output_type": "stream",
     "text": [
      "{'first-name': 'Aziza', 'last-name': 'Nemad', 'username': 'azia93', 'group': 'Devops'}\n",
      "{'first-name': 'Abdul', 'last-name': 'Sharif', 'username': 'abdulcoder', 'group': 'Dev'}\n",
      "{'first-name': 'Nazira', 'last-name': 'Sadykova', 'username': 'fsadykov', 'group': 'Dev'}\n",
      "{'first-name': 'Nodira', 'last-name': 'Saip', 'username': 'nsaip', 'group': 'Devop'}\n"
     ]
    }
   ],
   "source": [
    "for i in evolveCyberDatabase:\n",
    "    print(i)"
   ]
  },
  {
   "cell_type": "code",
   "execution_count": null,
   "metadata": {},
   "outputs": [],
   "source": [
    "user1 = {}\n",
    "user1['first-name'] = \"aziza\".capitalize()\n",
    "user1['last_name'] = 'nemad'.capitalize()\n",
    "evolveCyberDatabase.append(user1)\n",
    "\n",
    "user2x = {}\n",
    "user2['first-name'] = \"abdul\".capitalize()\n",
    "user2['last_name'] = 'sharif'.capitalize()\n",
    "evolveCyberDatabase.append(user1)"
   ]
  },
  {
   "cell_type": "code",
   "execution_count": null,
   "metadata": {
    "scrolled": true
   },
   "outputs": [],
   "source": [
    "for item in evolveCyberDatabase:\n",
    "    if item['username'] == 'azia93':\n",
    "        evolveCyberDatabase.remove(item)\n",
    "    print(item)"
   ]
  },
  {
   "cell_type": "code",
   "execution_count": null,
   "metadata": {
    "scrolled": true
   },
   "outputs": [],
   "source": [
    "print(evolveCyberDatabase)"
   ]
  },
  {
   "cell_type": "code",
   "execution_count": null,
   "metadata": {},
   "outputs": [],
   "source": []
  }
 ],
 "metadata": {
  "kernelspec": {
   "display_name": "Python 3",
   "language": "python",
   "name": "python3"
  },
  "language_info": {
   "codemirror_mode": {
    "name": "ipython",
    "version": 3
   },
   "file_extension": ".py",
   "mimetype": "text/x-python",
   "name": "python",
   "nbconvert_exporter": "python",
   "pygments_lexer": "ipython3",
   "version": "3.6.5"
  }
 },
 "nbformat": 4,
 "nbformat_minor": 2
}
