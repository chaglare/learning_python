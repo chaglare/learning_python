{
 "cells": [
  {
   "cell_type": "code",
   "execution_count": null,
   "metadata": {},
   "outputs": [],
   "source": [
    "\"\"\"working with JSON data\"\"\""
   ]
  },
  {
   "cell_type": "code",
   "execution_count": 12,
   "metadata": {},
   "outputs": [
    {
     "name": "stdout",
     "output_type": "stream",
     "text": [
      "None\n"
     ]
    }
   ],
   "source": [
    "import json\n",
    "\n",
    "with open('data.json') as example_json:\n",
    "    data = json.load(example_json)\n",
    "    \n",
    "print(data['items'][0]['group'])         # null = none in Python       none = null in JSON"
   ]
  },
  {
   "cell_type": "markdown",
   "metadata": {},
   "source": [
    "## Working with Functions and JSON data\n",
    "\n",
    "1. Create function call print_my_data\n",
    "    1. Function should take argument integer\n",
    "    2. Function should iterate the all data\n",
    "    3. Print the data\n",
    "\n"
   ]
  },
  {
   "cell_type": "markdown",
   "metadata": {},
   "source": [
    "2. Create function which will ask from user repo name\n",
    "   1. Input from user reponame\n",
    "   2. Look for the repo from data\n",
    "   3. As soon as function found should print reponame"
   ]
  },
  {
   "cell_type": "code",
   "execution_count": 13,
   "metadata": {},
   "outputs": [
    {
     "name": "stdout",
     "output_type": "stream",
     "text": [
      "{'id': 'd2VicGxhdGZvcm06Yzc3MDE2OWMwYjJlM2VkODUwZDQzZmU4ZTNlMTRkZjU', 'repository': 'webplatform', 'format': 'docker', 'group': None, 'name': 'webplatform-prod', 'version': '0.9', 'assets': [{'downloadUrl': 'https://nexus.fuchicorp.com/repository/webplatform/v2/webplatform-prod/manifests/0.9', 'path': 'v2/webplatform-prod/manifests/0.9', 'id': 'd2VicGxhdGZvcm06MzZlM2RlYzhkZTUyOGM5YjA3NTkyZjE4YjUxMWQ3OGI', 'repository': 'webplatform', 'format': 'docker', 'checksum': {'sha1': '76e0c448146b0a771d5ed55a31b159053016cd1a', 'sha256': 'c1c0f993aa070e1d35750ffbfc51ec1dce3f4c08faee2735f0672f44321d15bb'}}]}\n"
     ]
    }
   ],
   "source": [
    "def print_my_data(integer):\n",
    "    print(data['items'][integer])\n",
    "\n",
    "print_my_data(2)\n",
    "    \n",
    "    "
   ]
  },
  {
   "cell_type": "code",
   "execution_count": 14,
   "metadata": {},
   "outputs": [],
   "source": [
    "def find_repo():\n",
    "    reponame = input('Please enter reponame: ')\n",
    "    for repo in data['items']:\n",
    "        if reponame == repo['name']:\n",
    "            print(repo['name'])"
   ]
  },
  {
   "cell_type": "code",
   "execution_count": 15,
   "metadata": {},
   "outputs": [
    {
     "name": "stdout",
     "output_type": "stream",
     "text": [
      "Please enter reponame: webplatform-qa\n",
      "webplatform-qa\n",
      "webplatform-qa\n"
     ]
    }
   ],
   "source": [
    "find_repo()"
   ]
  },
  {
   "cell_type": "markdown",
   "metadata": {},
   "source": [
    "# 3. Create a function call 'does_repo_exist'\n",
    "    A. Function take argument 'repo_name'\n",
    "    B. Iterate the all data\n",
    "    C. if data matches with repo_name print all information about data\n",
    "    D. if function cannot find repo shpuld say repo not found "
   ]
  },
  {
   "cell_type": "code",
   "execution_count": 18,
   "metadata": {},
   "outputs": [],
   "source": [
    "def does_repo_exist(repo_name):\n",
    "    for repo in data['items']:\n",
    "        if repo_name == repo['name']:\n",
    "            print(repo)\n",
    "            break\n",
    "    else:\n",
    "        print('Repo not found')"
   ]
  },
  {
   "cell_type": "code",
   "execution_count": 20,
   "metadata": {},
   "outputs": [
    {
     "name": "stdout",
     "output_type": "stream",
     "text": [
      "{'id': 'd2VicGxhdGZvcm06Yzc3MDE2OWMwYjJlM2VkOGY2ZDY5ZjQzMWRmYzE4ODU', 'repository': 'webplatform', 'format': 'docker', 'group': None, 'name': 'webplatform-qa', 'version': '0.6', 'assets': [{'downloadUrl': 'https://nexus.fuchicorp.com/repository/webplatform/v2/webplatform-qa/manifests/0.6', 'path': 'v2/webplatform-qa/manifests/0.6', 'id': 'd2VicGxhdGZvcm06MzZlM2RlYzhkZTUyOGM5YjA2MjFjMGZiMDIyMDQyMzM', 'repository': 'webplatform', 'format': 'docker', 'checksum': {'sha1': '0e2792ff34433b42ba52449b4e1c20fe91b51c29', 'sha256': 'd58edae3c6ca96ea829287c662212eb5730d40fd9d8f271806acea67c0a7a602'}}]}\n"
     ]
    }
   ],
   "source": [
    "does_repo_exist('webplatform-qa')"
   ]
  },
  {
   "cell_type": "code",
   "execution_count": 21,
   "metadata": {},
   "outputs": [],
   "source": [
    "my_user_list = []\n",
    "for user_num in range(1, 11):\n",
    "    my_user_list.append({\"username\": f'user-{user_num}', \n",
    "                         \"password\": None,  \n",
    "                         \"status\": False})"
   ]
  },
  {
   "cell_type": "code",
   "execution_count": 22,
   "metadata": {},
   "outputs": [
    {
     "data": {
      "text/plain": [
       "[{'username': 'user-1', 'password': None, 'status': False},\n",
       " {'username': 'user-2', 'password': None, 'status': False},\n",
       " {'username': 'user-3', 'password': None, 'status': False},\n",
       " {'username': 'user-4', 'password': None, 'status': False},\n",
       " {'username': 'user-5', 'password': None, 'status': False},\n",
       " {'username': 'user-6', 'password': None, 'status': False},\n",
       " {'username': 'user-7', 'password': None, 'status': False},\n",
       " {'username': 'user-8', 'password': None, 'status': False},\n",
       " {'username': 'user-9', 'password': None, 'status': False},\n",
       " {'username': 'user-10', 'password': None, 'status': False}]"
      ]
     },
     "execution_count": 22,
     "metadata": {},
     "output_type": "execute_result"
    }
   ],
   "source": [
    "my_user_list"
   ]
  },
  {
   "cell_type": "code",
   "execution_count": 23,
   "metadata": {},
   "outputs": [
    {
     "name": "stdout",
     "output_type": "stream",
     "text": [
      "[{'username': 'user-1', 'password': None, 'status': False}, {'username': 'user-2', 'password': None, 'status': False}, {'username': 'user-3', 'password': None, 'status': False}, {'username': 'user-4', 'password': None, 'status': False}, {'username': 'user-5', 'password': None, 'status': False}, {'username': 'user-6', 'password': None, 'status': False}, {'username': 'user-7', 'password': None, 'status': False}, {'username': 'user-8', 'password': None, 'status': False}, {'username': 'user-9', 'password': None, 'status': False}, {'username': 'user-10', 'password': None, 'status': False}]\n"
     ]
    }
   ],
   "source": [
    "print(my_user_list)"
   ]
  },
  {
   "cell_type": "code",
   "execution_count": 24,
   "metadata": {},
   "outputs": [
    {
     "name": "stdout",
     "output_type": "stream",
     "text": [
      "[{\"username\": \"user-1\", \"password\": null, \"status\": false}, {\"username\": \"user-2\", \"password\": null, \"status\": false}, {\"username\": \"user-3\", \"password\": null, \"status\": false}, {\"username\": \"user-4\", \"password\": null, \"status\": false}, {\"username\": \"user-5\", \"password\": null, \"status\": false}, {\"username\": \"user-6\", \"password\": null, \"status\": false}, {\"username\": \"user-7\", \"password\": null, \"status\": false}, {\"username\": \"user-8\", \"password\": null, \"status\": false}, {\"username\": \"user-9\", \"password\": null, \"status\": false}, {\"username\": \"user-10\", \"password\": null, \"status\": false}]\n"
     ]
    }
   ],
   "source": [
    "print(json.dumps(my_user_list))"
   ]
  },
  {
   "cell_type": "code",
   "execution_count": 25,
   "metadata": {},
   "outputs": [
    {
     "name": "stdout",
     "output_type": "stream",
     "text": [
      "[\n",
      "  {\n",
      "    \"username\": \"user-1\",\n",
      "    \"password\": null,\n",
      "    \"status\": false\n",
      "  },\n",
      "  {\n",
      "    \"username\": \"user-2\",\n",
      "    \"password\": null,\n",
      "    \"status\": false\n",
      "  },\n",
      "  {\n",
      "    \"username\": \"user-3\",\n",
      "    \"password\": null,\n",
      "    \"status\": false\n",
      "  },\n",
      "  {\n",
      "    \"username\": \"user-4\",\n",
      "    \"password\": null,\n",
      "    \"status\": false\n",
      "  },\n",
      "  {\n",
      "    \"username\": \"user-5\",\n",
      "    \"password\": null,\n",
      "    \"status\": false\n",
      "  },\n",
      "  {\n",
      "    \"username\": \"user-6\",\n",
      "    \"password\": null,\n",
      "    \"status\": false\n",
      "  },\n",
      "  {\n",
      "    \"username\": \"user-7\",\n",
      "    \"password\": null,\n",
      "    \"status\": false\n",
      "  },\n",
      "  {\n",
      "    \"username\": \"user-8\",\n",
      "    \"password\": null,\n",
      "    \"status\": false\n",
      "  },\n",
      "  {\n",
      "    \"username\": \"user-9\",\n",
      "    \"password\": null,\n",
      "    \"status\": false\n",
      "  },\n",
      "  {\n",
      "    \"username\": \"user-10\",\n",
      "    \"password\": null,\n",
      "    \"status\": false\n",
      "  }\n",
      "]\n"
     ]
    }
   ],
   "source": [
    "print(json.dumps(my_user_list, indent=2))"
   ]
  },
  {
   "cell_type": "code",
   "execution_count": 26,
   "metadata": {},
   "outputs": [],
   "source": [
    "with open('user_list.json', 'w') as my_file:        # w: write, r: read, a: append\n",
    "    json.dump(my_user_list, my_file, indent=2)      # indent=2  leaves 2 empty lines"
   ]
  },
  {
   "cell_type": "code",
   "execution_count": null,
   "metadata": {},
   "outputs": [],
   "source": []
  }
 ],
 "metadata": {
  "kernelspec": {
   "display_name": "Python 3",
   "language": "python",
   "name": "python3"
  },
  "language_info": {
   "codemirror_mode": {
    "name": "ipython",
    "version": 3
   },
   "file_extension": ".py",
   "mimetype": "text/x-python",
   "name": "python",
   "nbconvert_exporter": "python",
   "pygments_lexer": "ipython3",
   "version": "3.6.5"
  }
 },
 "nbformat": 4,
 "nbformat_minor": 2
}
